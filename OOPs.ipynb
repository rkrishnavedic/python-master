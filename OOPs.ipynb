{
 "cells": [
  {
   "cell_type": "markdown",
   "id": "c81557d1-1a89-4d7d-ab54-c751a4c152ed",
   "metadata": {},
   "source": [
    "#### Procedural Programming\n",
    "Procedural programming is a programming paradigm, classified as imperative programming, that involves implementing the behavior of a computer program as procedures that call each other. \n",
    "The resulting program is a series of steps that forms a hierarchy of calls to its constituent procedures."
   ]
  },
  {
   "cell_type": "markdown",
   "id": "72aa5dc7-70aa-4b2f-b0c8-7ffc6aeef6b6",
   "metadata": {},
   "source": [
    "#### Functional Programming\n",
    "Functional programming is a declarative programming paradigm style where one applies pure functions in sequence to solve complex problems.\n",
    "Reusability of functions and reduced redundancy are key aspects of this paradigm."
   ]
  },
  {
   "cell_type": "markdown",
   "id": "c3c255ac-abe7-4fcc-9dd6-e4cb7118cb6b",
   "metadata": {},
   "source": [
    "#### Object Oriented Programming\n",
    "Object-oriented programming (OOP) is a computer programming model that organizes software design around data, or objects, rather than functions and logic. An object can be defined as a data field that has unique attributes and behavior."
   ]
  },
  {
   "cell_type": "markdown",
   "id": "6b536fb8-4b39-4601-8097-814dc227af73",
   "metadata": {},
   "source": [
    "1. A **class** is like an object constructor, or a \"blueprint\" for creating objects.\n",
    "2. An **object** is an entity that has a state and behavior associated with it"
   ]
  },
  {
   "cell_type": "code",
   "execution_count": 21,
   "id": "3f0e76dd-69a5-4432-80b8-fc6ab2d75563",
   "metadata": {},
   "outputs": [],
   "source": [
    "class People:\n",
    "    name = 'Rahul'"
   ]
  },
  {
   "cell_type": "code",
   "execution_count": 22,
   "id": "fb40931a-678f-4c22-8dc1-fd2a1193531f",
   "metadata": {},
   "outputs": [],
   "source": [
    "p1 = People()"
   ]
  },
  {
   "cell_type": "code",
   "execution_count": 23,
   "id": "68a2a00e-ae47-4a40-bc35-085d1fae119a",
   "metadata": {},
   "outputs": [
    {
     "name": "stdout",
     "output_type": "stream",
     "text": [
      "<__main__.People object at 0x112994b60>\n"
     ]
    }
   ],
   "source": [
    "print(p1)"
   ]
  },
  {
   "cell_type": "code",
   "execution_count": 24,
   "id": "7205b213-6926-42ea-a76a-08b96037d3a9",
   "metadata": {},
   "outputs": [
    {
     "name": "stdout",
     "output_type": "stream",
     "text": [
      "Rahul\n"
     ]
    }
   ],
   "source": [
    "print(p1.name)"
   ]
  },
  {
   "cell_type": "markdown",
   "id": "79cf9f99-bc81-47d6-ac82-8115b50d6970",
   "metadata": {},
   "source": [
    "##### Constructor of Class\n",
    "`__init__` function <br/>\n",
    "All classes has this constructor function, which is executed when an instance (of class) is created."
   ]
  },
  {
   "cell_type": "code",
   "execution_count": 28,
   "id": "d0817cfb-25b2-4fbc-ae7a-bb05a4b97215",
   "metadata": {},
   "outputs": [],
   "source": [
    "class People:\n",
    "    name : any\n",
    "    def __init__(self, name):\n",
    "        '''\n",
    "        self parameter is reference to current instance of class,\n",
    "        used to access variables that belongs this class\n",
    "        '''\n",
    "        self.name=name"
   ]
  },
  {
   "cell_type": "code",
   "execution_count": 30,
   "id": "663d38a7-2241-4112-ba6d-e2c6b7289c8b",
   "metadata": {},
   "outputs": [
    {
     "name": "stdout",
     "output_type": "stream",
     "text": [
      "<__main__.People object at 0x1129aa6c0>\n"
     ]
    }
   ],
   "source": [
    "p2 = People('RahulKrishna')\n",
    "print(p2)"
   ]
  },
  {
   "cell_type": "code",
   "execution_count": 31,
   "id": "fe5a3d7e-30cb-4c97-9618-a921ece6c34d",
   "metadata": {},
   "outputs": [
    {
     "name": "stdout",
     "output_type": "stream",
     "text": [
      "RahulKrishna\n"
     ]
    }
   ],
   "source": [
    "print(p2.name)"
   ]
  },
  {
   "cell_type": "code",
   "execution_count": 33,
   "id": "64c40a48-0fe5-414f-88d2-c1c67f22894a",
   "metadata": {},
   "outputs": [
    {
     "ename": "TypeError",
     "evalue": "People.__init__() missing 1 required positional argument: 'name'",
     "output_type": "error",
     "traceback": [
      "\u001b[0;31m---------------------------------------------------------------------------\u001b[0m",
      "\u001b[0;31mTypeError\u001b[0m                                 Traceback (most recent call last)",
      "Cell \u001b[0;32mIn[33], line 1\u001b[0m\n\u001b[0;32m----> 1\u001b[0m p3 \u001b[38;5;241m=\u001b[39m \u001b[43mPeople\u001b[49m\u001b[43m(\u001b[49m\u001b[43m)\u001b[49m\n",
      "\u001b[0;31mTypeError\u001b[0m: People.__init__() missing 1 required positional argument: 'name'"
     ]
    }
   ],
   "source": [
    "p3 = People()"
   ]
  },
  {
   "cell_type": "markdown",
   "id": "e0962895-d268-48c0-8197-b8525b4a191e",
   "metadata": {},
   "source": [
    "`__init__()` function is implicitly is defined and created by python by default, without having any parameters.<br/>\n",
    "But when we define parameterized constructor it doesn't do that. It expects you to define how you want your  constructors."
   ]
  },
  {
   "cell_type": "code",
   "execution_count": 49,
   "id": "8f2e58f5-34f3-439a-b9e4-5d94b3411951",
   "metadata": {},
   "outputs": [],
   "source": [
    "# Lets add default value to name as None when no parameter is passed\n",
    "class People:\n",
    "    name : any\n",
    "    def __init__(self, name=None):\n",
    "        self.name=name"
   ]
  },
  {
   "cell_type": "code",
   "execution_count": 50,
   "id": "1fd8d3ba-0d59-4668-b84a-4bc2966bca6d",
   "metadata": {},
   "outputs": [
    {
     "name": "stdout",
     "output_type": "stream",
     "text": [
      "<__main__.People object at 0x1129e1760>\n",
      "None\n"
     ]
    }
   ],
   "source": [
    "p3 = People()\n",
    "print(p3)\n",
    "print(p3.name)"
   ]
  },
  {
   "cell_type": "code",
   "execution_count": 53,
   "id": "45e0318e-f491-48bc-92d0-3cb8d6a57123",
   "metadata": {},
   "outputs": [
    {
     "name": "stdout",
     "output_type": "stream",
     "text": [
      "People Object created with name =  None\n",
      "People Object created with name =  Atmaram\n"
     ]
    }
   ],
   "source": [
    "# You don't need to define type or variables explicitely\n",
    "class People:\n",
    "    def __init__(cls, name=None):\n",
    "        # you can aslo give different name to `self` reference\n",
    "        cls.name=name\n",
    "        print('People Object created with name = ', cls.name)\n",
    "\n",
    "\n",
    "p4 = People()\n",
    "p5 = People('Atmaram')"
   ]
  },
  {
   "cell_type": "markdown",
   "id": "73746572-482f-4c6e-ad82-65aafd39ef89",
   "metadata": {},
   "source": [
    "#### Attributes\n",
    "Attributes are basically represents quality, data or state of object/class.<br/>\n",
    "\n",
    "1. What is a class attribute? A class attribute is a variable that belongs to a class. It is a property of the class. It belongs to the class rather than any specific object. This attribute is created outside of the constructor method `__init__`.\n",
    "2. Instance/Object attributes are created inside a constructor. The constructor for instance attributes is the `__init__()` method. The constructor initializes the instance attributes. The first parameter of the constructor is self. The attributes of the instance come after the “self” parameter."
   ]
  },
  {
   "cell_type": "code",
   "execution_count": 94,
   "id": "bcbd2271-b430-4ad1-bd14-4612a94c7d3a",
   "metadata": {},
   "outputs": [],
   "source": [
    "class Student:\n",
    "    college_name = \"Vishwa Vidyalaya\" # this is class attribute\n",
    "    #Class attributes are shared among all instances of the class, and they occupy memory space only once.\n",
    "\n",
    "    def __init__(self, name=None, college_name=None):\n",
    "        self.name=name # object attribute and it occupies memory space as many times as objects are created\n",
    "        if college_name is not None:\n",
    "            self.college_name=college_name\n",
    "            # Object attribute has higher precedence w.r.t. class attribute\n",
    "            # Hence it will overwrite the existing college_name\n",
    "    \n",
    "    def display_info(self):\n",
    "        print(self.name, \" :: \",self.college_name)"
   ]
  },
  {
   "cell_type": "code",
   "execution_count": 95,
   "id": "6a6763b6-d1cb-4c69-ab31-a231c4d0e517",
   "metadata": {},
   "outputs": [
    {
     "name": "stdout",
     "output_type": "stream",
     "text": [
      "None  ::  Vishwa Vidyalaya\n",
      "Ram  ::  Vishwa Vidyalaya\n",
      "Shyam  ::  Gurukul\n"
     ]
    }
   ],
   "source": [
    "s1 = Student()\n",
    "s2 = Student(\"Ram\")\n",
    "s3 = Student(\"Shyam\", \"Gurukul\")\n",
    "\n",
    "s1.display_info()\n",
    "s2.display_info()\n",
    "s3.display_info()"
   ]
  },
  {
   "cell_type": "markdown",
   "id": "597d15be-73af-41b6-9c55-61ce832fea7c",
   "metadata": {},
   "source": [
    "#### Class and Static Methods\n",
    "The difference between Class method and the static method is:\n",
    "\n",
    "1. A class method takes cls as the first parameter while a static method needs no specific parameters.\n",
    "3. A class method can access or modify the class state while a static method can’t access or modify it.\n",
    "3. In general, static methods know nothing about the class state. They are utility-type methods that take some parameters and work upon those parameters. On the other hand class methods must have class as a parameter.\n",
    "4. We use `@classmethod` decorator in python to create a class method and we use @staticmethod decorator to create a static method in python."
   ]
  },
  {
   "cell_type": "code",
   "execution_count": 131,
   "id": "3cf5b060-b735-4462-bb66-cf137dad6cfa",
   "metadata": {},
   "outputs": [
    {
     "name": "stdout",
     "output_type": "stream",
     "text": [
      "Class created with name Ganga Liviano\n",
      "Welcome to Society Class\n",
      "Located in Pune\n",
      "Ganga Liviano is located in Pune\n",
      "-----\n",
      "Class created with name Ganga Liviano\n",
      "Welcome to Society Class\n",
      "Located in Pune\n",
      "Ganga Liviano is located in Kharadi\n"
     ]
    }
   ],
   "source": [
    "class Society:\n",
    "    location=\"Pune\"\n",
    "    \n",
    "    def __init__(self, name=None, location=None):\n",
    "        self.name=name\n",
    "        if location is not None:\n",
    "            self.location=location\n",
    "        print(\"Class created with name\", self.name)\n",
    "\n",
    "    @staticmethod\n",
    "    def welcome(): # Static Method\n",
    "        print(\"Welcome to Society Class\")\n",
    "\n",
    "    @classmethod\n",
    "    def print_location(cls): # Class Method\n",
    "        print(\"Located in\" , cls.location)\n",
    "\n",
    "    def print_details(self): # Instance method\n",
    "        print(self.name, \"is located in\", self.location)\n",
    "\n",
    "society = Society(\"Ganga Liviano\")\n",
    "society.welcome()\n",
    "society.print_location()\n",
    "society.print_details()\n",
    "\n",
    "print(\"-----\")\n",
    "society = Society(\"Ganga Liviano\", \"Kharadi\")\n",
    "society.welcome()\n",
    "society.print_location() # Observe this cls.location\n",
    "society.print_details()"
   ]
  },
  {
   "cell_type": "markdown",
   "id": "a470ecaa-2334-442a-8516-2a7ae9448700",
   "metadata": {},
   "source": [
    "#### Instance, Class and Static Methods\n",
    "\n",
    "1. Instance methods can access and modify both class and instance attributes. They are bound to an object instance.\n",
    "2. Class methods can access and modify class attributes, but not instance attributes. They are bound to the class itself, not instances.\n",
    "3. Static methods cannot access either class or instance attributes. They are essentially regular functions inside a class, without any special access to class or instance data."
   ]
  },
  {
   "cell_type": "markdown",
   "id": "4e879ded-9d7d-4d11-ae90-cef63424d3d5",
   "metadata": {},
   "source": [
    "#### Pillars of Object Oriented Programming\n",
    "\n",
    "1. **Encapsulation***: Binding data and functions (methods) together within a class, hiding the internal implementation details from the outside world.\n",
    "2. **Abstraction**: Exposing only the necessary features of an object while hiding the unnecessary complexities.\n",
    "3. **Inheritance**: Creating new classes (child classes) by deriving from existing classes (parent classes), inheriting and extending their attributes and behaviors.\n",
    "4. **Polymorphism**: Objects of different classes can be treated as objects of a common superclass, allowing for flexibility and code reusability through method overriding and method overloading."
   ]
  },
  {
   "cell_type": "markdown",
   "id": "05c40f38-7d02-4339-b81f-00f51fc81b5b",
   "metadata": {},
   "source": [
    "#### `del` keyword"
   ]
  },
  {
   "cell_type": "code",
   "execution_count": 1,
   "id": "75af26f7-3fd2-4a24-bf28-dc15bc968796",
   "metadata": {},
   "outputs": [],
   "source": [
    "class Student:\n",
    "    def __init__(self, name):\n",
    "        self.name=name"
   ]
  },
  {
   "cell_type": "code",
   "execution_count": 2,
   "id": "0ce235b2-0ef0-4dcb-be27-83070a3d3270",
   "metadata": {},
   "outputs": [],
   "source": [
    "s1=Student(\"Rahul\")"
   ]
  },
  {
   "cell_type": "code",
   "execution_count": 4,
   "id": "78434803-d391-4754-8c18-abd27426326e",
   "metadata": {},
   "outputs": [
    {
     "ename": "AttributeError",
     "evalue": "'Student' object has no attribute 'name'",
     "output_type": "error",
     "traceback": [
      "\u001b[0;31m---------------------------------------------------------------------------\u001b[0m",
      "\u001b[0;31mAttributeError\u001b[0m                            Traceback (most recent call last)",
      "Cell \u001b[0;32mIn[4], line 1\u001b[0m\n\u001b[0;32m----> 1\u001b[0m \u001b[38;5;28;01mdel\u001b[39;00m \u001b[43ms1\u001b[49m\u001b[38;5;241;43m.\u001b[39;49m\u001b[43mname\u001b[49m\n\u001b[1;32m      2\u001b[0m s1\u001b[38;5;241m.\u001b[39mname\n",
      "\u001b[0;31mAttributeError\u001b[0m: 'Student' object has no attribute 'name'"
     ]
    }
   ],
   "source": [
    "del s1.name\n",
    "s1.name"
   ]
  },
  {
   "cell_type": "code",
   "execution_count": 5,
   "id": "996145d5-6b68-43f2-a4e0-3e747431f347",
   "metadata": {},
   "outputs": [
    {
     "data": {
      "text/plain": [
       "<__main__.Student at 0x10fe43200>"
      ]
     },
     "execution_count": 5,
     "metadata": {},
     "output_type": "execute_result"
    }
   ],
   "source": [
    "s1"
   ]
  },
  {
   "cell_type": "code",
   "execution_count": 6,
   "id": "ef946130-f7c5-44ad-9901-1c2892a02b26",
   "metadata": {},
   "outputs": [],
   "source": [
    "del s1"
   ]
  },
  {
   "cell_type": "code",
   "execution_count": 7,
   "id": "75714f94-375b-4189-9f09-f59f1e9ba8a1",
   "metadata": {},
   "outputs": [
    {
     "ename": "NameError",
     "evalue": "name 's1' is not defined",
     "output_type": "error",
     "traceback": [
      "\u001b[0;31m---------------------------------------------------------------------------\u001b[0m",
      "\u001b[0;31mNameError\u001b[0m                                 Traceback (most recent call last)",
      "Cell \u001b[0;32mIn[7], line 1\u001b[0m\n\u001b[0;32m----> 1\u001b[0m \u001b[43ms1\u001b[49m\n",
      "\u001b[0;31mNameError\u001b[0m: name 's1' is not defined"
     ]
    }
   ],
   "source": [
    "s1"
   ]
  },
  {
   "cell_type": "markdown",
   "id": "6939063c-92e8-4a45-a351-50a1fd7a560f",
   "metadata": {},
   "source": [
    "#### Public and Private attributes"
   ]
  },
  {
   "cell_type": "code",
   "execution_count": 8,
   "id": "2c5c229e-2983-4efe-8ca2-9c70b96a3e89",
   "metadata": {},
   "outputs": [],
   "source": [
    "class Credential:\n",
    "    def __init__(self, username, password):\n",
    "        self.username=username\n",
    "        self.password=password"
   ]
  },
  {
   "cell_type": "code",
   "execution_count": 9,
   "id": "6025841a-4dd3-4319-9fc7-561bf2f02e21",
   "metadata": {},
   "outputs": [],
   "source": [
    "c1 = Credential(\"rahul\",\"simplepassword\")"
   ]
  },
  {
   "cell_type": "code",
   "execution_count": 10,
   "id": "d2f110e7-b6d2-42c2-8e98-842a929520a5",
   "metadata": {},
   "outputs": [
    {
     "name": "stdout",
     "output_type": "stream",
     "text": [
      "rahul simplepassword\n"
     ]
    }
   ],
   "source": [
    "print(c1.username,c1.password)"
   ]
  },
  {
   "cell_type": "markdown",
   "id": "488935d4-5fba-4503-bf3d-084f391ad948",
   "metadata": {},
   "source": [
    "##### Do you want this to happen? No, right. Credentials (particularly, password) should not be printable like that.\n",
    "Security should be enhanced. Make use of prefix `__` (two underscores) to make method or variable private."
   ]
  },
  {
   "cell_type": "code",
   "execution_count": 11,
   "id": "743502c5-5e75-46ee-84ef-2726e5de7675",
   "metadata": {},
   "outputs": [],
   "source": [
    "class SecureCredential:\n",
    "    def __init__(self, username, password):\n",
    "        self.username=username\n",
    "        self.__password=password\n",
    "    def __internal_method(self):\n",
    "        print(self.__password)\n",
    "\n",
    "    def public_method(self):\n",
    "        print(self.username)\n",
    "        print(len(self.__password))"
   ]
  },
  {
   "cell_type": "code",
   "execution_count": 12,
   "id": "b4c30d2f-a6da-4922-ac18-d99a0a3e9a1e",
   "metadata": {},
   "outputs": [],
   "source": [
    "sc1 = SecureCredential(\"rahul\", \"ui*3nlkrEGBD01\")"
   ]
  },
  {
   "cell_type": "code",
   "execution_count": 13,
   "id": "8380d18f-057c-4fbf-b90f-0d739d0d58fb",
   "metadata": {},
   "outputs": [
    {
     "ename": "AttributeError",
     "evalue": "'SecureCredential' object has no attribute '__internal_method'",
     "output_type": "error",
     "traceback": [
      "\u001b[0;31m---------------------------------------------------------------------------\u001b[0m",
      "\u001b[0;31mAttributeError\u001b[0m                            Traceback (most recent call last)",
      "Cell \u001b[0;32mIn[13], line 1\u001b[0m\n\u001b[0;32m----> 1\u001b[0m \u001b[43msc1\u001b[49m\u001b[38;5;241;43m.\u001b[39;49m\u001b[43m__internal_method\u001b[49m()\n",
      "\u001b[0;31mAttributeError\u001b[0m: 'SecureCredential' object has no attribute '__internal_method'"
     ]
    }
   ],
   "source": [
    "sc1.__internal_method()"
   ]
  },
  {
   "cell_type": "code",
   "execution_count": 14,
   "id": "0a1e9da7-1d47-4f8d-b3d1-96a8634402e8",
   "metadata": {},
   "outputs": [
    {
     "name": "stdout",
     "output_type": "stream",
     "text": [
      "rahul\n",
      "14\n"
     ]
    }
   ],
   "source": [
    "sc1.public_method()"
   ]
  },
  {
   "cell_type": "code",
   "execution_count": 16,
   "id": "15008f0a-246f-4a27-b988-4b9d0fdf79b1",
   "metadata": {},
   "outputs": [
    {
     "data": {
      "text/plain": [
       "'rahul'"
      ]
     },
     "execution_count": 16,
     "metadata": {},
     "output_type": "execute_result"
    }
   ],
   "source": [
    "sc1.username"
   ]
  },
  {
   "cell_type": "code",
   "execution_count": 17,
   "id": "1b00bc70-8bc7-4c0e-9146-16c0d3744476",
   "metadata": {},
   "outputs": [
    {
     "ename": "AttributeError",
     "evalue": "'SecureCredential' object has no attribute '__password'",
     "output_type": "error",
     "traceback": [
      "\u001b[0;31m---------------------------------------------------------------------------\u001b[0m",
      "\u001b[0;31mAttributeError\u001b[0m                            Traceback (most recent call last)",
      "Cell \u001b[0;32mIn[17], line 1\u001b[0m\n\u001b[0;32m----> 1\u001b[0m \u001b[43msc1\u001b[49m\u001b[38;5;241;43m.\u001b[39;49m\u001b[43m__password\u001b[49m\n",
      "\u001b[0;31mAttributeError\u001b[0m: 'SecureCredential' object has no attribute '__password'"
     ]
    }
   ],
   "source": [
    "sc1.__password"
   ]
  },
  {
   "cell_type": "markdown",
   "id": "ff2f92d6-05a0-4c69-94f2-eb9d6c83e699",
   "metadata": {},
   "source": [
    "#### Inheritance\n",
    "Inheritance is a fundamental concept of Object-Oriented Programming (OOP) that enables a new class to inherit the properties and methods of an existing class.\n",
    "Terminologies: Base/Parent Class; Derived/Child Class\n",
    "\n",
    "#### Types of Inheritance\n",
    "1. Single Inheritance\n",
    "2. Multi-level Inheritance\n",
    "3. Multiple Inheritance"
   ]
  },
  {
   "cell_type": "code",
   "execution_count": 35,
   "id": "4c7a78b8-ec65-4994-8d44-8ecc46f9e2aa",
   "metadata": {},
   "outputs": [],
   "source": [
    "class Student:\n",
    "    student_type='general'\n",
    "    base_property='base'\n",
    "    def __init__(self, name, id):\n",
    "        self.name=name\n",
    "        self.id=id\n",
    "\n",
    "    def get_id(self):\n",
    "        return self.id\n",
    "    \n",
    "    def print(self):\n",
    "        print(self.name, self.id)"
   ]
  },
  {
   "cell_type": "code",
   "execution_count": 36,
   "id": "b8e252f0-f679-4651-972f-b0677c888359",
   "metadata": {},
   "outputs": [],
   "source": [
    "s1=Student(\"rahul\",\"74\")"
   ]
  },
  {
   "cell_type": "code",
   "execution_count": 37,
   "id": "d6edaea0-4709-4dd4-b559-e909967de6f1",
   "metadata": {},
   "outputs": [
    {
     "name": "stdout",
     "output_type": "stream",
     "text": [
      "rahul 74\n"
     ]
    }
   ],
   "source": [
    "s1.print()"
   ]
  },
  {
   "cell_type": "code",
   "execution_count": 38,
   "id": "1c626887-6c58-4b6c-bc77-90638e7939f0",
   "metadata": {},
   "outputs": [],
   "source": [
    "class PhdStudent(Student):\n",
    "    student_type='specialised_student'\n",
    "    def print(self): # this will override base class method\n",
    "        print(self.name, self.id ,\"Phd Student\")"
   ]
  },
  {
   "cell_type": "code",
   "execution_count": 39,
   "id": "b4cf9333-edb8-42d5-892e-aabf9a13d716",
   "metadata": {},
   "outputs": [],
   "source": [
    "ps1 = PhdStudent(\"Ram\", \"01\")"
   ]
  },
  {
   "cell_type": "code",
   "execution_count": 40,
   "id": "6c553732-2d03-4f54-b4a4-af95625d9b9d",
   "metadata": {},
   "outputs": [
    {
     "name": "stdout",
     "output_type": "stream",
     "text": [
      "Ram 01 Phd Student\n"
     ]
    }
   ],
   "source": [
    "ps1.print()"
   ]
  },
  {
   "cell_type": "code",
   "execution_count": 41,
   "id": "3e51fc5a-6581-4c36-bdef-473cb8417fa0",
   "metadata": {},
   "outputs": [
    {
     "data": {
      "text/plain": [
       "'01'"
      ]
     },
     "execution_count": 41,
     "metadata": {},
     "output_type": "execute_result"
    }
   ],
   "source": [
    "ps1.get_id()"
   ]
  },
  {
   "cell_type": "code",
   "execution_count": 42,
   "id": "1bee5a20-33c8-4946-a1d7-9fd979c05ee1",
   "metadata": {},
   "outputs": [
    {
     "data": {
      "text/plain": [
       "'general'"
      ]
     },
     "execution_count": 42,
     "metadata": {},
     "output_type": "execute_result"
    }
   ],
   "source": [
    "s1.student_type"
   ]
  },
  {
   "cell_type": "code",
   "execution_count": 43,
   "id": "14847afb-406e-4372-83c6-1175aff155b7",
   "metadata": {},
   "outputs": [
    {
     "data": {
      "text/plain": [
       "'specialised_student'"
      ]
     },
     "execution_count": 43,
     "metadata": {},
     "output_type": "execute_result"
    }
   ],
   "source": [
    "ps1.student_type"
   ]
  },
  {
   "cell_type": "code",
   "execution_count": 44,
   "id": "407ab4b3-f781-4728-9121-ab6b70c0d37c",
   "metadata": {},
   "outputs": [
    {
     "data": {
      "text/plain": [
       "'base'"
      ]
     },
     "execution_count": 44,
     "metadata": {},
     "output_type": "execute_result"
    }
   ],
   "source": [
    "s1.base_property"
   ]
  },
  {
   "cell_type": "code",
   "execution_count": 45,
   "id": "952d4aed-3075-4d7b-a381-4e9657a9ad63",
   "metadata": {},
   "outputs": [
    {
     "data": {
      "text/plain": [
       "'base'"
      ]
     },
     "execution_count": 45,
     "metadata": {},
     "output_type": "execute_result"
    }
   ],
   "source": [
    "ps1.base_property"
   ]
  },
  {
   "cell_type": "code",
   "execution_count": null,
   "id": "ae03a30f-003f-480b-9215-00e5c8923226",
   "metadata": {},
   "outputs": [],
   "source": [
    "# Lets see multiple inheritance"
   ]
  },
  {
   "cell_type": "code",
   "execution_count": 47,
   "id": "07661bc3-c8cc-4568-a5e3-2a9015bcb24a",
   "metadata": {},
   "outputs": [],
   "source": [
    "class Maa:\n",
    "    gender='female'\n",
    "    def __init__(self):\n",
    "        self.name=\"Uma\"\n",
    "\n",
    "class Papa:\n",
    "    gender='male'\n",
    "    def __init__(self):\n",
    "        self.name=\"Shiv\""
   ]
  },
  {
   "cell_type": "code",
   "execution_count": 48,
   "id": "58e72677-845c-474f-a28b-f4a9d246307b",
   "metadata": {},
   "outputs": [],
   "source": [
    "class Putri(Maa, Papa):\n",
    "    pass"
   ]
  },
  {
   "cell_type": "code",
   "execution_count": 51,
   "id": "fe92a86a-5b2f-4a30-8227-1c8e437631f2",
   "metadata": {},
   "outputs": [
    {
     "name": "stdout",
     "output_type": "stream",
     "text": [
      "Uma female\n"
     ]
    }
   ],
   "source": [
    "putri = Putri()\n",
    "print(putri.name, putri.gender)"
   ]
  },
  {
   "cell_type": "markdown",
   "id": "2adbee82-3040-44e2-8aa8-4d7412bbd326",
   "metadata": {},
   "source": [
    "#### What happend?\n",
    "In multiple inheritance:\n",
    "1. Attribute/Method Resolution Order (MRO): When multiple parent classes have attributes/methods with the same name, the MRO determines which one is inherited by the child class.\n",
    "2. Depth-first, Left-to-Right Search: Python searches for attributes/methods in a depth-first, left-to-right order, starting from the current class, then inherited classes from left to right, and recursively for classes inherited by those classes.\n",
    "3. Overriding: To override an attribute/method from a parent class, simply define it in the child class. The child's version takes precedence.\n",
    "4. Accessing Parent Attributes/Methods: Use the parent class name to explicitly access its attributes/methods (e.g., daughter.Father.name). Alternatively, call super().init() in the child class to access both parent classes' initialization methods.\n",
    "5. Checking MRO: The mro attribute or mro() method can be used to view the Method Resolution Order of a class, which is a tuple/list showing the search order for attributes/methods."
   ]
  },
  {
   "cell_type": "code",
   "execution_count": 68,
   "id": "ad9a64fd-a316-4433-910c-cea2f2317244",
   "metadata": {},
   "outputs": [],
   "source": [
    "class Putri(Maa,Papa):\n",
    "    def __init__(self, name):\n",
    "        super(Maa).__init__()\n",
    "        super(Papa).__init__()\n",
    "        self.name=name"
   ]
  },
  {
   "cell_type": "code",
   "execution_count": 69,
   "id": "f6b52d93-f488-40e7-ab9d-046780f60481",
   "metadata": {},
   "outputs": [
    {
     "ename": "AttributeError",
     "evalue": "'Putri' object has no attribute 'Maa'",
     "output_type": "error",
     "traceback": [
      "\u001b[0;31m---------------------------------------------------------------------------\u001b[0m",
      "\u001b[0;31mAttributeError\u001b[0m                            Traceback (most recent call last)",
      "Cell \u001b[0;32mIn[69], line 2\u001b[0m\n\u001b[1;32m      1\u001b[0m putri \u001b[38;5;241m=\u001b[39m Putri(\u001b[38;5;124m\"\u001b[39m\u001b[38;5;124mAshokSundari\u001b[39m\u001b[38;5;124m\"\u001b[39m)\n\u001b[0;32m----> 2\u001b[0m \u001b[38;5;28mprint\u001b[39m(putri\u001b[38;5;241m.\u001b[39mname, putri\u001b[38;5;241m.\u001b[39mgender, \u001b[43mputri\u001b[49m\u001b[38;5;241;43m.\u001b[39;49m\u001b[43mMaa\u001b[49m\u001b[38;5;241m.\u001b[39mname, putri\u001b[38;5;241m.\u001b[39mPapa\u001b[38;5;241m.\u001b[39mname)\n",
      "\u001b[0;31mAttributeError\u001b[0m: 'Putri' object has no attribute 'Maa'"
     ]
    }
   ],
   "source": [
    "putri = Putri(\"AshokSundari\")\n",
    "print(putri.name, putri.gender, putri.Maa.name, putri.Papa.name)"
   ]
  },
  {
   "cell_type": "code",
   "execution_count": null,
   "id": "ac4f073e-893c-4dfe-b73a-76633869f6c2",
   "metadata": {},
   "outputs": [],
   "source": []
  }
 ],
 "metadata": {
  "kernelspec": {
   "display_name": "Python 3 (ipykernel)",
   "language": "python",
   "name": "python3"
  },
  "language_info": {
   "codemirror_mode": {
    "name": "ipython",
    "version": 3
   },
   "file_extension": ".py",
   "mimetype": "text/x-python",
   "name": "python",
   "nbconvert_exporter": "python",
   "pygments_lexer": "ipython3",
   "version": "3.12.1"
  }
 },
 "nbformat": 4,
 "nbformat_minor": 5
}
