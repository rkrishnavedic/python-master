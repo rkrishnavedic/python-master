{
 "cells": [
  {
   "cell_type": "markdown",
   "id": "1f132d34-928b-45ba-835d-fac488073604",
   "metadata": {},
   "source": [
    "#### Outline\n",
    "1. Primitive and Non-primitive variables\n",
    "2. Control blocks (if-else, loops, etc)\n",
    "3. Operators (+,-...) and comparators (<, >=...)\n",
    "4. Methods\n",
    "5. Data Structurs (string, dictionary, list, etc)"
   ]
  },
  {
   "cell_type": "code",
   "execution_count": 1,
   "id": "19e960c5-2ac9-4ac1-bc50-7d4c49e79390",
   "metadata": {},
   "outputs": [],
   "source": [
    "# Primitive data types\n",
    "x = 42  # Integer\n",
    "y = 3.14  # Float\n",
    "z = True  # Boolean\n",
    "s = \"hello\"  # String # we dont' have char in pythons\n",
    "\n",
    "# Non-primitive data types\n",
    "my_list = [1, 2, 3]  # List\n",
    "my_tuple = (4, 5, 6)  # Tuple\n",
    "my_set = {7, 8, 9}  # Set\n",
    "my_dict = {'a': 10, 'b': 11}  # Dictionary"
   ]
  },
  {
   "cell_type": "markdown",
   "id": "9bb1069b-c911-4ffb-8be6-186ae2ba7f28",
   "metadata": {},
   "source": [
    "#### Can we make constants (read-only)?\n",
    "Python does not have a built-in way to declare constants like some other languages. To enforce constant behavior more strictly, you can:\n",
    "\n",
    "Use module-level variables, which are read-only within the module they're defined in.\n",
    "Define constants as class attributes, following the naming convention of using all uppercase letters"
   ]
  },
  {
   "cell_type": "code",
   "execution_count": 17,
   "id": "0810cd25-d921-4f02-84ac-b7d9b55a595a",
   "metadata": {},
   "outputs": [
    {
     "name": "stdout",
     "output_type": "stream",
     "text": [
      "[2]\n",
      "[1, 2]\n"
     ]
    },
    {
     "ename": "IndexError",
     "evalue": "list index out of range",
     "output_type": "error",
     "traceback": [
      "\u001b[0;31m---------------------------------------------------------------------------\u001b[0m",
      "\u001b[0;31mIndexError\u001b[0m                                Traceback (most recent call last)",
      "Cell \u001b[0;32mIn[17], line 3\u001b[0m\n\u001b[1;32m      1\u001b[0m \u001b[38;5;28mprint\u001b[39m(my_list[\u001b[38;5;241m1\u001b[39m:\u001b[38;5;241m2\u001b[39m]) \u001b[38;5;66;03m# my_list[l,r] = [my_list[l],...,my_list[r-1]]\u001b[39;00m\n\u001b[1;32m      2\u001b[0m \u001b[38;5;28mprint\u001b[39m(my_list[\u001b[38;5;241m-\u001b[39m\u001b[38;5;241m10\u001b[39m:\u001b[38;5;241m-\u001b[39m\u001b[38;5;241m1\u001b[39m])\n\u001b[0;32m----> 3\u001b[0m \u001b[38;5;28mprint\u001b[39m(\u001b[43mmy_list\u001b[49m\u001b[43m[\u001b[49m\u001b[38;5;241;43m4\u001b[39;49m\u001b[43m]\u001b[49m)\n",
      "\u001b[0;31mIndexError\u001b[0m: list index out of range"
     ]
    }
   ],
   "source": [
    "print(my_list[1:2]) # my_list[l,r] = [my_list[l],...,my_list[r-1]]\n",
    "print(my_list[-10:-1])\n",
    "print(my_list[4])"
   ]
  },
  {
   "cell_type": "code",
   "execution_count": 19,
   "id": "daa83fbf-cf10-44de-b575-8e2121f7179d",
   "metadata": {},
   "outputs": [
    {
     "data": {
      "text/plain": [
       "3"
      ]
     },
     "execution_count": 19,
     "metadata": {},
     "output_type": "execute_result"
    }
   ],
   "source": [
    "len(my_list) # len(data_structure) = size of data_structure"
   ]
  },
  {
   "cell_type": "code",
   "execution_count": 24,
   "id": "bebce007-5e7a-4b27-85d0-99fab0e3511d",
   "metadata": {},
   "outputs": [
    {
     "name": "stdout",
     "output_type": "stream",
     "text": [
      "1 ARC\n",
      "2 ARC\n",
      "3 ARC\n",
      "1\n",
      "2\n",
      "3\n"
     ]
    }
   ],
   "source": [
    "for t in my_list:\n",
    "    print(t, \"ARC\")\n",
    "\n",
    "for i in range(0,len(my_list)):\n",
    "    print(my_list[i])"
   ]
  },
  {
   "cell_type": "code",
   "execution_count": 22,
   "id": "dbd01025-2898-4cf0-ad21-e7b845360e44",
   "metadata": {},
   "outputs": [
    {
     "name": "stdout",
     "output_type": "stream",
     "text": [
      "[1, 4, 9]\n"
     ]
    }
   ],
   "source": [
    "square_list = [x**2 for x in my_list]\n",
    "print(square_list)"
   ]
  },
  {
   "cell_type": "code",
   "execution_count": 27,
   "id": "d6ab45f4-238a-48b8-8c7e-e0c360683890",
   "metadata": {},
   "outputs": [
    {
     "data": {
      "text/plain": [
       "[1, 2, 3, 4, 4, 4]"
      ]
     },
     "execution_count": 27,
     "metadata": {},
     "output_type": "execute_result"
    }
   ],
   "source": [
    "my_list.append(4)\n",
    "square_list\n",
    "my_list"
   ]
  },
  {
   "cell_type": "code",
   "execution_count": 28,
   "id": "9100113d-4406-487e-99b0-2f91f3954c3c",
   "metadata": {},
   "outputs": [],
   "source": [
    "for i in range(0,2):\n",
    "    my_list.pop()"
   ]
  },
  {
   "cell_type": "code",
   "execution_count": 29,
   "id": "f3579a6e-3c25-4d0a-b70c-b668959741a1",
   "metadata": {},
   "outputs": [
    {
     "data": {
      "text/plain": [
       "[1, 2, 3, 4]"
      ]
     },
     "execution_count": 29,
     "metadata": {},
     "output_type": "execute_result"
    }
   ],
   "source": [
    "my_list"
   ]
  },
  {
   "cell_type": "code",
   "execution_count": 31,
   "id": "14cd16ab-1512-4938-8149-25c160fef6f6",
   "metadata": {},
   "outputs": [],
   "source": [
    "my_list = [5] +  my_list"
   ]
  },
  {
   "cell_type": "code",
   "execution_count": 33,
   "id": "ac45d9b5-3b32-4e9e-9c11-156f6250bd99",
   "metadata": {},
   "outputs": [],
   "source": [
    "my_list += [6]"
   ]
  },
  {
   "cell_type": "code",
   "execution_count": 34,
   "id": "fea500ef-c9d0-42cd-9dd4-745cf45292eb",
   "metadata": {},
   "outputs": [
    {
     "data": {
      "text/plain": [
       "[5, 1, 2, 3, 4, 6]"
      ]
     },
     "execution_count": 34,
     "metadata": {},
     "output_type": "execute_result"
    }
   ],
   "source": [
    "my_list"
   ]
  },
  {
   "cell_type": "markdown",
   "id": "6002f7a8-f214-49e5-b9e5-bd5adeb9c5cb",
   "metadata": {},
   "source": [
    "Python lists support a wide range of operations and methods. Here are some common list operations in Python:\n",
    "\n",
    "1. Indexing and Slicing: You can access individual elements of a list using indexing (my_list[0]) or slicing (my_list[1:3]).\n",
    "2. Concatenation: You can concatenate two lists using the + operator (my_list1 + my_list2).\n",
    "3. Repetition: You can repeat a list using the * operator (my_list * 3).\n",
    "4. Length: You can get the length of a list using the len() function (len(my_list)).\n",
    "5. Membership Testing: You can check if an element is present in a list using the in operator (3 in my_list).\n",
    "6. Iteration: You can iterate over the elements of a list using a for loop or other iteration constructs.\n",
    "7. Append: You can add an element to the end of a list using the append() method (my_list.append(4)).\n",
    "8. Insert: You can insert an element at a specific index using the insert() method (my_list.insert(1, 'new')).\n",
    "9. Remove: You can remove an element from a list using the remove() method (my_list.remove(2)).\n",
    "10. Pop: You can remove and return the last element (or an element at a specific index) using the pop() method (my_list.pop() or my_list.pop(2)).\n",
    "11. Index: You can find the index of the first occurrence of an element using the index() method (my_list.index(3)).\n",
    "12. Count: You can count the number of occurrences of an element using the count() method (my_list.count(2)).\n",
    "13. Sort: You can sort the elements of a list in ascending order using the sort() method (my_list.sort()).\n",
    "14. Reverse: You can reverse the order of elements in a list using the reverse() method (my_list.reverse()).\n",
    "15. Extend: You can append elements from another list to the end of the current list using the extend() method (my_list.extend(another_list)).\n",
    "16. Copying: You can create a shallow copy of a list using slicing (new_list = my_list[:]) or the copy() method (new_list = my_list.copy())."
   ]
  },
  {
   "cell_type": "code",
   "execution_count": 35,
   "id": "878b31ef-fbd2-4060-8272-aa1ae703089c",
   "metadata": {},
   "outputs": [
    {
     "data": {
      "text/plain": [
       "[5, 1, 2, 3, 4, 6, 5, 1, 2, 3, 4, 6, 5, 1, 2, 3, 4, 6]"
      ]
     },
     "execution_count": 35,
     "metadata": {},
     "output_type": "execute_result"
    }
   ],
   "source": [
    "my_list*3"
   ]
  },
  {
   "cell_type": "code",
   "execution_count": 36,
   "id": "bce56cfe-ab0d-40a1-add2-29c47202eb43",
   "metadata": {},
   "outputs": [
    {
     "data": {
      "text/plain": [
       "[5, 1, 2, 3, 4, 6]"
      ]
     },
     "execution_count": 36,
     "metadata": {},
     "output_type": "execute_result"
    }
   ],
   "source": [
    "my_list"
   ]
  },
  {
   "cell_type": "code",
   "execution_count": 38,
   "id": "270c09a0-7d01-42e7-a518-4ef1b190486e",
   "metadata": {},
   "outputs": [
    {
     "data": {
      "text/plain": [
       "[5, 1, 2, 3, 7, 4, 6]"
      ]
     },
     "execution_count": 38,
     "metadata": {},
     "output_type": "execute_result"
    }
   ],
   "source": [
    "my_list.insert(4,7)\n",
    "my_list"
   ]
  },
  {
   "cell_type": "code",
   "execution_count": 41,
   "id": "eb191a28-6c45-48ae-81d7-04f28a5641f8",
   "metadata": {},
   "outputs": [
    {
     "data": {
      "text/plain": [
       "[5, 1, 2, 3, 7, 4, 6, 1, 2]"
      ]
     },
     "execution_count": 41,
     "metadata": {},
     "output_type": "execute_result"
    }
   ],
   "source": [
    "my_list += [1,2]\n",
    "my_list"
   ]
  },
  {
   "cell_type": "code",
   "execution_count": 42,
   "id": "c4576229-8836-4010-8170-afcfb0106c18",
   "metadata": {},
   "outputs": [
    {
     "data": {
      "text/plain": [
       "[5, 2, 3, 7, 4, 6, 1, 2]"
      ]
     },
     "execution_count": 42,
     "metadata": {},
     "output_type": "execute_result"
    }
   ],
   "source": [
    "my_list.remove(1)\n",
    "my_list"
   ]
  },
  {
   "cell_type": "code",
   "execution_count": 45,
   "id": "8933db50-fac8-434a-a404-790d39822350",
   "metadata": {},
   "outputs": [
    {
     "ename": "SyntaxError",
     "evalue": "invalid syntax (652874863.py, line 1)",
     "output_type": "error",
     "traceback": [
      "\u001b[0;36m  Cell \u001b[0;32mIn[45], line 1\u001b[0;36m\u001b[0m\n\u001b[0;31m    my_list?.remove(10)\u001b[0m\n\u001b[0m           ^\u001b[0m\n\u001b[0;31mSyntaxError\u001b[0m\u001b[0;31m:\u001b[0m invalid syntax\n"
     ]
    }
   ],
   "source": [
    "my_list?.remove(10)\n",
    "my_list"
   ]
  },
  {
   "cell_type": "code",
   "execution_count": 46,
   "id": "e13c6513-52f0-49c5-b335-67ed04a87956",
   "metadata": {},
   "outputs": [
    {
     "ename": "IndexError",
     "evalue": "pop from empty list",
     "output_type": "error",
     "traceback": [
      "\u001b[0;31m---------------------------------------------------------------------------\u001b[0m",
      "\u001b[0;31mIndexError\u001b[0m                                Traceback (most recent call last)",
      "Cell \u001b[0;32mIn[46], line 2\u001b[0m\n\u001b[1;32m      1\u001b[0m empty_list\u001b[38;5;241m=\u001b[39m[]\n\u001b[0;32m----> 2\u001b[0m \u001b[43mempty_list\u001b[49m\u001b[38;5;241;43m.\u001b[39;49m\u001b[43mpop\u001b[49m\u001b[43m(\u001b[49m\u001b[43m)\u001b[49m\n",
      "\u001b[0;31mIndexError\u001b[0m: pop from empty list"
     ]
    }
   ],
   "source": [
    "empty_list=[]\n",
    "empty_list.pop()"
   ]
  },
  {
   "cell_type": "code",
   "execution_count": 47,
   "id": "7208ab3e-e56d-4aff-a674-c3a1a319fcfc",
   "metadata": {},
   "outputs": [
    {
     "data": {
      "text/plain": [
       "[5, 2, 3, 7, 4, 6, 1, 2]"
      ]
     },
     "execution_count": 47,
     "metadata": {},
     "output_type": "execute_result"
    }
   ],
   "source": [
    "if 10 in my_list:\n",
    "    my_list.remove(10)\n",
    "my_list"
   ]
  },
  {
   "cell_type": "code",
   "execution_count": 48,
   "id": "4b6c7dea-f42f-45f5-8c3d-7a2297920824",
   "metadata": {},
   "outputs": [
    {
     "data": {
      "text/plain": [
       "[2, 3, 7, 4, 6, 1, 2]"
      ]
     },
     "execution_count": 48,
     "metadata": {},
     "output_type": "execute_result"
    }
   ],
   "source": [
    "if 5 in my_list:\n",
    "    my_list.remove(5)\n",
    "my_list"
   ]
  },
  {
   "cell_type": "code",
   "execution_count": 49,
   "id": "d0c7d5dd-9391-4c04-aa30-768179a2b9ec",
   "metadata": {},
   "outputs": [
    {
     "data": {
      "text/plain": [
       "[2, 3, 7, 4, 9, 6, 1, 2, 9, 9]"
      ]
     },
     "execution_count": 49,
     "metadata": {},
     "output_type": "execute_result"
    }
   ],
   "source": [
    "# my_list.remove(value) removes only first occurance\n",
    "\n",
    "my_list += [9,9]\n",
    "my_list.insert(4,9)\n",
    "my_list"
   ]
  },
  {
   "cell_type": "code",
   "execution_count": 50,
   "id": "37f80c5c-f1e5-4b10-998f-ac12adfb8a3b",
   "metadata": {},
   "outputs": [
    {
     "data": {
      "text/plain": [
       "[2, 3, 7, 4, 6, 1, 2]"
      ]
     },
     "execution_count": 50,
     "metadata": {},
     "output_type": "execute_result"
    }
   ],
   "source": [
    "while 9 in my_list:\n",
    "    my_list.remove(9)\n",
    "my_list"
   ]
  },
  {
   "cell_type": "code",
   "execution_count": 51,
   "id": "e8386cc0-e0d9-4b2d-b530-5025d8789de3",
   "metadata": {},
   "outputs": [
    {
     "data": {
      "text/plain": [
       "[2, 3, 7, 4, 6, 1, 2, 1, 2, 3]"
      ]
     },
     "execution_count": 51,
     "metadata": {},
     "output_type": "execute_result"
    }
   ],
   "source": [
    "my_list.extend([1,2,3])\n",
    "my_list"
   ]
  },
  {
   "cell_type": "code",
   "execution_count": 52,
   "id": "9d37cf8f-9b33-4352-bb75-105ae44af86c",
   "metadata": {},
   "outputs": [
    {
     "data": {
      "text/plain": [
       "2"
      ]
     },
     "execution_count": 52,
     "metadata": {},
     "output_type": "execute_result"
    }
   ],
   "source": [
    "my_list.index(7)"
   ]
  },
  {
   "cell_type": "code",
   "execution_count": 53,
   "id": "8d9c2dfe-8629-43ae-8ac1-25855e6b911e",
   "metadata": {},
   "outputs": [
    {
     "ename": "ValueError",
     "evalue": "10 is not in list",
     "output_type": "error",
     "traceback": [
      "\u001b[0;31m---------------------------------------------------------------------------\u001b[0m",
      "\u001b[0;31mValueError\u001b[0m                                Traceback (most recent call last)",
      "Cell \u001b[0;32mIn[53], line 1\u001b[0m\n\u001b[0;32m----> 1\u001b[0m \u001b[43mmy_list\u001b[49m\u001b[38;5;241;43m.\u001b[39;49m\u001b[43mindex\u001b[49m\u001b[43m(\u001b[49m\u001b[38;5;241;43m10\u001b[39;49m\u001b[43m)\u001b[49m\n",
      "\u001b[0;31mValueError\u001b[0m: 10 is not in list"
     ]
    }
   ],
   "source": [
    "my_list.index(10)"
   ]
  },
  {
   "cell_type": "code",
   "execution_count": 54,
   "id": "50df1887-2a90-4ce5-b1f5-3e4ab8f8714d",
   "metadata": {},
   "outputs": [
    {
     "data": {
      "text/plain": [
       "2"
      ]
     },
     "execution_count": 54,
     "metadata": {},
     "output_type": "execute_result"
    }
   ],
   "source": [
    "my_list.count(1)"
   ]
  },
  {
   "cell_type": "code",
   "execution_count": 55,
   "id": "5d4957dc-0f12-4f19-a66c-d073eb931c3e",
   "metadata": {},
   "outputs": [
    {
     "data": {
      "text/plain": [
       "[1, 1, 2, 2, 2, 3, 3, 4, 6, 7]"
      ]
     },
     "execution_count": 55,
     "metadata": {},
     "output_type": "execute_result"
    }
   ],
   "source": [
    "my_list.sort()\n",
    "my_list"
   ]
  },
  {
   "cell_type": "code",
   "execution_count": 56,
   "id": "a617af74-4119-4571-a3fe-e7bf167627ee",
   "metadata": {},
   "outputs": [
    {
     "data": {
      "text/plain": [
       "[7, 6, 4, 3, 3, 2, 2, 2, 1, 1]"
      ]
     },
     "execution_count": 56,
     "metadata": {},
     "output_type": "execute_result"
    }
   ],
   "source": [
    "my_list.reverse()\n",
    "my_list"
   ]
  },
  {
   "cell_type": "code",
   "execution_count": 57,
   "id": "bce1c5e7-f84a-4f01-9057-adb06e9f2e44",
   "metadata": {},
   "outputs": [],
   "source": [
    "new_list = my_list[:]"
   ]
  },
  {
   "cell_type": "code",
   "execution_count": 58,
   "id": "98a7f0ae-d9db-42f3-bd85-d07532e400c5",
   "metadata": {},
   "outputs": [
    {
     "data": {
      "text/plain": [
       "[7, 6, 4, 3, 3, 2, 2, 2, 1, 1]"
      ]
     },
     "execution_count": 58,
     "metadata": {},
     "output_type": "execute_result"
    }
   ],
   "source": [
    "new_list"
   ]
  },
  {
   "cell_type": "code",
   "execution_count": 59,
   "id": "6ce42154-59a5-4294-81d6-54268868ca71",
   "metadata": {},
   "outputs": [],
   "source": [
    "new_list[3]=5"
   ]
  },
  {
   "cell_type": "code",
   "execution_count": 60,
   "id": "8e797071-63ea-42d1-acf7-bdb2875573f2",
   "metadata": {},
   "outputs": [
    {
     "data": {
      "text/plain": [
       "[7, 6, 4, 5, 3, 2, 2, 2, 1, 1]"
      ]
     },
     "execution_count": 60,
     "metadata": {},
     "output_type": "execute_result"
    }
   ],
   "source": [
    "new_list"
   ]
  },
  {
   "cell_type": "code",
   "execution_count": 61,
   "id": "1c4e7686-767a-43e5-b611-a5142ca248b5",
   "metadata": {},
   "outputs": [
    {
     "data": {
      "text/plain": [
       "[7, 6, 4, 3, 3, 2, 2, 2, 1, 1]"
      ]
     },
     "execution_count": 61,
     "metadata": {},
     "output_type": "execute_result"
    }
   ],
   "source": [
    "my_list"
   ]
  },
  {
   "cell_type": "markdown",
   "id": "2198a0d8-c962-4cbc-8da3-62c05b3757eb",
   "metadata": {},
   "source": [
    "#### What is set?"
   ]
  },
  {
   "cell_type": "code",
   "execution_count": 1,
   "id": "dbca98cf-ce8f-4d04-a44c-389a3d89ecc1",
   "metadata": {},
   "outputs": [],
   "source": [
    "# my_set = {}\n",
    "my_set = set()"
   ]
  },
  {
   "cell_type": "code",
   "execution_count": 3,
   "id": "96d63add-0467-4a82-806a-1e9a45f50b94",
   "metadata": {},
   "outputs": [
    {
     "data": {
      "text/plain": [
       "{1, 2}"
      ]
     },
     "execution_count": 3,
     "metadata": {},
     "output_type": "execute_result"
    }
   ],
   "source": [
    "my_set.add(1)\n",
    "my_set.add(1)\n",
    "my_set.add(2)\n",
    "my_set"
   ]
  },
  {
   "cell_type": "code",
   "execution_count": 10,
   "id": "0d164c23-5a8e-481a-8ea3-b752354a29d8",
   "metadata": {},
   "outputs": [],
   "source": [
    "your_set={1,8,9}\n",
    "her_set=set({1,2,3,3,4,4,4})"
   ]
  },
  {
   "cell_type": "code",
   "execution_count": 11,
   "id": "08eeec35-dae6-4ded-a209-34aeeec69f67",
   "metadata": {},
   "outputs": [
    {
     "data": {
      "text/plain": [
       "{1, 2, 3, 4}"
      ]
     },
     "execution_count": 11,
     "metadata": {},
     "output_type": "execute_result"
    }
   ],
   "source": [
    "her_set"
   ]
  },
  {
   "cell_type": "code",
   "execution_count": 12,
   "id": "592db274-61be-4307-b49e-de3cba12b975",
   "metadata": {},
   "outputs": [
    {
     "data": {
      "text/plain": [
       "{1, 8, 9}"
      ]
     },
     "execution_count": 12,
     "metadata": {},
     "output_type": "execute_result"
    }
   ],
   "source": [
    "your_set"
   ]
  },
  {
   "cell_type": "code",
   "execution_count": 13,
   "id": "6c26a9b4-9496-4c25-8b19-857757d9b614",
   "metadata": {},
   "outputs": [
    {
     "data": {
      "text/plain": [
       "{1, 2, 3}"
      ]
     },
     "execution_count": 13,
     "metadata": {},
     "output_type": "execute_result"
    }
   ],
   "source": [
    "her_set.remove(4)\n",
    "her_set"
   ]
  },
  {
   "cell_type": "code",
   "execution_count": 14,
   "id": "35ba59fe-f1bf-4f56-8ffc-32dd3023334f",
   "metadata": {},
   "outputs": [
    {
     "data": {
      "text/plain": [
       "{1, 3}"
      ]
     },
     "execution_count": 14,
     "metadata": {},
     "output_type": "execute_result"
    }
   ],
   "source": [
    "her_set.discard(2)\n",
    "her_set"
   ]
  },
  {
   "cell_type": "code",
   "execution_count": 15,
   "id": "589565c5-79de-4b51-bf3c-cc8dce991d02",
   "metadata": {},
   "outputs": [
    {
     "data": {
      "text/plain": [
       "{1, 3, 8, 9}"
      ]
     },
     "execution_count": 15,
     "metadata": {},
     "output_type": "execute_result"
    }
   ],
   "source": [
    "# your_set union her_set\n",
    "marriage_set = your_set.union(her_set)\n",
    "marriage_set"
   ]
  },
  {
   "cell_type": "code",
   "execution_count": 16,
   "id": "9817a9be-4bc4-4540-84a0-5127398ac853",
   "metadata": {},
   "outputs": [
    {
     "name": "stdout",
     "output_type": "stream",
     "text": [
      "{8, 1, 9} {1, 3}\n"
     ]
    }
   ],
   "source": [
    "print(your_set, her_set)"
   ]
  },
  {
   "cell_type": "code",
   "execution_count": 17,
   "id": "a20ff774-991f-401b-9b41-90847a616c56",
   "metadata": {},
   "outputs": [
    {
     "data": {
      "text/plain": [
       "2"
      ]
     },
     "execution_count": 17,
     "metadata": {},
     "output_type": "execute_result"
    }
   ],
   "source": [
    "len(her_set)"
   ]
  },
  {
   "cell_type": "code",
   "execution_count": 20,
   "id": "d32c97b8-af53-49cf-8864-3f5ea3827a6d",
   "metadata": {},
   "outputs": [
    {
     "name": "stdout",
     "output_type": "stream",
     "text": [
      "1\n",
      "3\n"
     ]
    }
   ],
   "source": [
    "for x in her_set:\n",
    "    print(x)"
   ]
  },
  {
   "cell_type": "markdown",
   "id": "73372f39-8b9d-4eec-959e-1e9b3ab812e6",
   "metadata": {},
   "source": [
    "In Python, a set is an unordered collection of unique elements. Sets are defined using curly braces `{ }` or the `set()` function. Here are some key points about sets in Python:\n",
    "\n",
    "1. **Unique Elements**: A set cannot contain duplicate elements. If you try to add an element that already exists in the set, it will be ignored.\n",
    "\n",
    "2. **Unordered**: The elements in a set are not ordered, meaning they do not have a specific index or position.\n",
    "\n",
    "3. **Mutable**: Sets are mutable, which means you can add or remove elements from a set after it has been created.\n",
    "\n",
    "Here are some common set operations in Python:\n",
    "\n",
    "1. **Creating a set**:\n",
    "   ```python\n",
    "   empty_set = set()  # Creates an empty set\n",
    "   my_set = {1, 2, 3}  # Creates a set with initial elements\n",
    "   ```\n",
    "\n",
    "2. **Adding elements**:\n",
    "   ```python\n",
    "   my_set.add(4)  # Adds the element 4 to the set\n",
    "   ```\n",
    "\n",
    "3. **Removing elements**:\n",
    "   ```python\n",
    "   my_set.remove(2)  # Removes the element 2 from the set\n",
    "   my_set.discard(5)  # Removes the element 5 from the set (no error if it doesn't exist)\n",
    "   ```\n",
    "\n",
    "4. **Union**: Combines two sets and returns a new set containing all unique elements from both sets.\n",
    "   ```python\n",
    "   set1 = {1, 2, 3}\n",
    "   set2 = {3, 4, 5}\n",
    "   set3 = set1.union(set2)  # set3 = {1, 2, 3, 4, 5}\n",
    "   ```\n",
    "\n",
    "5. **Intersection**: Returns a new set containing only the elements common to both sets.\n",
    "   ```python\n",
    "   set1 = {1, 2, 3}\n",
    "   set2 = {2, 3, 4}\n",
    "   set3 = set1.intersection(set2)  # set3 = {2, 3}\n",
    "   ```\n",
    "\n",
    "6. **Difference**: Returns a new set containing elements in the first set but not in the second set.\n",
    "   ```python\n",
    "   set1 = {1, 2, 3}\n",
    "   set2 = {2, 3, 4}\n",
    "   set3 = set1.difference(set2)  # set3 = {1}\n",
    "   ```\n",
    "\n",
    "7. **Subset and Superset**: Tests if a set is a subset or superset of another set.\n",
    "   ```python\n",
    "   set1 = {1, 2, 3}\n",
    "   set2 = {1, 2, 3, 4, 5}\n",
    "   is_subset = set1.issubset(set2)  # True\n",
    "   is_superset = set2.issuperset(set1)  # True\n",
    "   ```\n",
    "\n",
    "8. **Iteration**: You can iterate over the elements in a set using a `for` loop or other iteration constructs.\n",
    "   ```python\n",
    "   my_set = {1, 2, 3}\n",
    "   for element in my_set:\n",
    "       print(element)\n",
    "   ```\n",
    "\n",
    "Sets are useful when you need to work with unique elements and perform operations like unions, intersections, and differences. They are also commonly used for membership testing and removing duplicates from a collection of elements."
   ]
  },
  {
   "cell_type": "markdown",
   "id": "14b6c230-05fa-4ab1-bdf9-cef1466e0c2b",
   "metadata": {},
   "source": [
    "#### Dictionary in python"
   ]
  },
  {
   "cell_type": "code",
   "execution_count": 47,
   "id": "0a7ecb3e-4048-4bf2-a7d4-9575a75fd6da",
   "metadata": {},
   "outputs": [],
   "source": [
    "my = dict()\n",
    "#  my = {}"
   ]
  },
  {
   "cell_type": "code",
   "execution_count": 67,
   "id": "45aecc74-b97a-467e-b2cc-34497cda73ba",
   "metadata": {},
   "outputs": [
    {
     "ename": "TypeError",
     "evalue": "unhashable type: 'list'",
     "output_type": "error",
     "traceback": [
      "\u001b[0;31m---------------------------------------------------------------------------\u001b[0m",
      "\u001b[0;31mTypeError\u001b[0m                                 Traceback (most recent call last)",
      "Cell \u001b[0;32mIn[67], line 1\u001b[0m\n\u001b[0;32m----> 1\u001b[0m your \u001b[38;5;241m=\u001b[39m \u001b[38;5;28mdict\u001b[39m({\u001b[38;5;241m1\u001b[39m:\u001b[38;5;124m'\u001b[39m\u001b[38;5;124mdf\u001b[39m\u001b[38;5;124m'\u001b[39m, [\u001b[38;5;241m2\u001b[39m,\u001b[38;5;241m1\u001b[39m]:\u001b[38;5;124m\"\u001b[39m\u001b[38;5;124mstring\u001b[39m\u001b[38;5;124m\"\u001b[39m})\n\u001b[1;32m      2\u001b[0m her \u001b[38;5;241m=\u001b[39m {\u001b[38;5;124m'\u001b[39m\u001b[38;5;124mx\u001b[39m\u001b[38;5;124m'\u001b[39m:\u001b[38;5;124m'\u001b[39m\u001b[38;5;124my\u001b[39m\u001b[38;5;124m'\u001b[39m, \u001b[38;5;124m'\u001b[39m\u001b[38;5;124mu\u001b[39m\u001b[38;5;124m'\u001b[39m:\u001b[38;5;124m'\u001b[39m\u001b[38;5;124mme\u001b[39m\u001b[38;5;124m'\u001b[39m, \u001b[38;5;241m3\u001b[39m: \u001b[38;5;28;01mTrue\u001b[39;00m, \u001b[38;5;28;01mFalse\u001b[39;00m:  \u001b[38;5;124m\"\u001b[39m\u001b[38;5;124mbadhiya\u001b[39m\u001b[38;5;124m\"\u001b[39m}\n",
      "\u001b[0;31mTypeError\u001b[0m: unhashable type: 'list'"
     ]
    }
   ],
   "source": [
    "your = dict({1:'df', [2,1]:\"string\"})\n",
    "her = {'x':'y', 'u':'me', 3: True, False:  \"badhiya\"}"
   ]
  },
  {
   "cell_type": "code",
   "execution_count": 72,
   "id": "e7d48736-486b-4f89-9ca0-f5ec594ee9a1",
   "metadata": {},
   "outputs": [],
   "source": [
    "your = dict({1:'df', \"string\":[2,\"string\"]})\n",
    "her = {'x':'y', 'u':'me', 3: True, False:  \"badhiya\"}"
   ]
  },
  {
   "cell_type": "code",
   "execution_count": 73,
   "id": "47b15a51-c482-48c8-a454-684a009e2df2",
   "metadata": {},
   "outputs": [
    {
     "data": {
      "text/plain": [
       "{}"
      ]
     },
     "execution_count": 73,
     "metadata": {},
     "output_type": "execute_result"
    }
   ],
   "source": [
    "my"
   ]
  },
  {
   "cell_type": "code",
   "execution_count": 74,
   "id": "08c2bbb5-eeea-4153-8d68-ca8bde6564f9",
   "metadata": {},
   "outputs": [
    {
     "data": {
      "text/plain": [
       "{1: 'df', 'string': [2, 'string']}"
      ]
     },
     "execution_count": 74,
     "metadata": {},
     "output_type": "execute_result"
    }
   ],
   "source": [
    "your"
   ]
  },
  {
   "cell_type": "code",
   "execution_count": 75,
   "id": "216980a8-1d06-43aa-9ff5-09c79b886c57",
   "metadata": {},
   "outputs": [
    {
     "data": {
      "text/plain": [
       "{'x': 'y', 'u': 'me', 3: True, False: 'badhiya'}"
      ]
     },
     "execution_count": 75,
     "metadata": {},
     "output_type": "execute_result"
    }
   ],
   "source": [
    "her"
   ]
  },
  {
   "cell_type": "code",
   "execution_count": 76,
   "id": "d61d8b23-b261-47d9-9991-1da5c35f41be",
   "metadata": {},
   "outputs": [
    {
     "data": {
      "text/plain": [
       "'me'"
      ]
     },
     "execution_count": 76,
     "metadata": {},
     "output_type": "execute_result"
    }
   ],
   "source": [
    "her['u']"
   ]
  },
  {
   "cell_type": "code",
   "execution_count": 77,
   "id": "003f4b38-9179-47f4-85e9-c79c0fc6a6ef",
   "metadata": {},
   "outputs": [],
   "source": [
    "her['other']='false'"
   ]
  },
  {
   "cell_type": "code",
   "execution_count": 78,
   "id": "fb3e93d4-4d54-4ab7-b6b0-8f03fc88791d",
   "metadata": {},
   "outputs": [
    {
     "data": {
      "text/plain": [
       "{'x': 'y', 'u': 'me', 3: True, False: 'badhiya', 'other': 'false'}"
      ]
     },
     "execution_count": 78,
     "metadata": {},
     "output_type": "execute_result"
    }
   ],
   "source": [
    "her"
   ]
  },
  {
   "cell_type": "code",
   "execution_count": 79,
   "id": "0f96315d-3d4f-417f-9f2e-89beafd8a8bd",
   "metadata": {},
   "outputs": [
    {
     "ename": "AttributeError",
     "evalue": "'dict' object has no attribute 'append'",
     "output_type": "error",
     "traceback": [
      "\u001b[0;31m---------------------------------------------------------------------------\u001b[0m",
      "\u001b[0;31mAttributeError\u001b[0m                            Traceback (most recent call last)",
      "Cell \u001b[0;32mIn[79], line 1\u001b[0m\n\u001b[0;32m----> 1\u001b[0m \u001b[43myour\u001b[49m\u001b[38;5;241;43m.\u001b[39;49m\u001b[43mappend\u001b[49m({\u001b[38;5;124m'\u001b[39m\u001b[38;5;124mnew\u001b[39m\u001b[38;5;124m'\u001b[39m:\u001b[38;5;124m'\u001b[39m\u001b[38;5;124mproperty\u001b[39m\u001b[38;5;124m'\u001b[39m})\n",
      "\u001b[0;31mAttributeError\u001b[0m: 'dict' object has no attribute 'append'"
     ]
    }
   ],
   "source": [
    "your.append({'new':'property'})"
   ]
  },
  {
   "cell_type": "code",
   "execution_count": 80,
   "id": "727bdd13-31ee-4401-96b1-6585a974a56d",
   "metadata": {},
   "outputs": [
    {
     "data": {
      "text/plain": [
       "{1: 'df', 'string': [2, 'string'], 'new': 'property'}"
      ]
     },
     "execution_count": 80,
     "metadata": {},
     "output_type": "execute_result"
    }
   ],
   "source": [
    "your['new']='property'\n",
    "your"
   ]
  },
  {
   "cell_type": "code",
   "execution_count": 81,
   "id": "f09d9f76-3e24-4294-b3c6-83b96effef5a",
   "metadata": {},
   "outputs": [
    {
     "data": {
      "text/plain": [
       "{'string': [2, 'string'], 'new': 'property'}"
      ]
     },
     "execution_count": 81,
     "metadata": {},
     "output_type": "execute_result"
    }
   ],
   "source": [
    "your.pop(1)\n",
    "your"
   ]
  },
  {
   "cell_type": "code",
   "execution_count": 82,
   "id": "7526b365-4064-45b6-9fb6-5928e3c94dcc",
   "metadata": {},
   "outputs": [
    {
     "ename": "KeyError",
     "evalue": "1",
     "output_type": "error",
     "traceback": [
      "\u001b[0;31m---------------------------------------------------------------------------\u001b[0m",
      "\u001b[0;31mKeyError\u001b[0m                                  Traceback (most recent call last)",
      "Cell \u001b[0;32mIn[82], line 1\u001b[0m\n\u001b[0;32m----> 1\u001b[0m \u001b[43myour\u001b[49m\u001b[38;5;241;43m.\u001b[39;49m\u001b[43mpop\u001b[49m\u001b[43m(\u001b[49m\u001b[38;5;241;43m1\u001b[39;49m\u001b[43m)\u001b[49m\n\u001b[1;32m      2\u001b[0m your\n",
      "\u001b[0;31mKeyError\u001b[0m: 1"
     ]
    }
   ],
   "source": [
    "your.pop(1)\n",
    "your"
   ]
  },
  {
   "cell_type": "code",
   "execution_count": 83,
   "id": "cc26049c-9a1c-4ad1-89de-6a7153ee335a",
   "metadata": {},
   "outputs": [],
   "source": [
    "if 1 in your:\n",
    "    print(\"yes\")"
   ]
  },
  {
   "cell_type": "code",
   "execution_count": 84,
   "id": "9d953dbd-f3e6-410c-9e09-5df35f30f9c6",
   "metadata": {},
   "outputs": [
    {
     "name": "stdout",
     "output_type": "stream",
     "text": [
      "[2, 'string']\n"
     ]
    }
   ],
   "source": [
    "if 'string' in your:\n",
    "    print(your['string'])"
   ]
  },
  {
   "cell_type": "code",
   "execution_count": 89,
   "id": "0c0eed31-110b-4e61-b032-9bc855723e77",
   "metadata": {},
   "outputs": [
    {
     "name": "stdout",
     "output_type": "stream",
     "text": [
      "string\n",
      "new\n"
     ]
    }
   ],
   "source": [
    "for kuch in your:\n",
    "    print(kuch)"
   ]
  },
  {
   "cell_type": "code",
   "execution_count": 88,
   "id": "6dc79bf0-348a-401c-a79d-21571bf85903",
   "metadata": {},
   "outputs": [
    {
     "ename": "ValueError",
     "evalue": "too many values to unpack (expected 2)",
     "output_type": "error",
     "traceback": [
      "\u001b[0;31m---------------------------------------------------------------------------\u001b[0m",
      "\u001b[0;31mValueError\u001b[0m                                Traceback (most recent call last)",
      "Cell \u001b[0;32mIn[88], line 1\u001b[0m\n\u001b[0;32m----> 1\u001b[0m \u001b[38;5;28;01mfor\u001b[39;00m k, val \u001b[38;5;129;01min\u001b[39;00m your:\n\u001b[1;32m      2\u001b[0m     \u001b[38;5;28mprint\u001b[39m(key,value)\n",
      "\u001b[0;31mValueError\u001b[0m: too many values to unpack (expected 2)"
     ]
    }
   ],
   "source": [
    "for k, val in your:\n",
    "    print(key,value)"
   ]
  },
  {
   "cell_type": "code",
   "execution_count": 91,
   "id": "1e34a1f6-36c9-4c8f-95aa-b574878a9bb4",
   "metadata": {},
   "outputs": [
    {
     "name": "stdout",
     "output_type": "stream",
     "text": [
      "string [2, 'string']\n",
      "new property\n"
     ]
    }
   ],
   "source": [
    "for k, val in your.items():\n",
    "    print(k,val)"
   ]
  },
  {
   "cell_type": "code",
   "execution_count": 92,
   "id": "62b16b71-2f39-4e00-ac40-db43149ff5e4",
   "metadata": {},
   "outputs": [
    {
     "name": "stdout",
     "output_type": "stream",
     "text": [
      "[2, 'string']\n",
      "property\n"
     ]
    }
   ],
   "source": [
    "for val in your.values():\n",
    "    print(val)"
   ]
  },
  {
   "cell_type": "code",
   "execution_count": 93,
   "id": "5b180589-630c-4b56-88e8-17260265568c",
   "metadata": {},
   "outputs": [
    {
     "name": "stdout",
     "output_type": "stream",
     "text": [
      "string\n",
      "new\n"
     ]
    }
   ],
   "source": [
    "for key in your.keys():\n",
    "    print(key)"
   ]
  },
  {
   "cell_type": "code",
   "execution_count": 94,
   "id": "8c35e06a-120b-479b-ac4f-425bb15a4fbf",
   "metadata": {},
   "outputs": [
    {
     "data": {
      "text/plain": [
       "2"
      ]
     },
     "execution_count": 94,
     "metadata": {},
     "output_type": "execute_result"
    }
   ],
   "source": [
    "len(your)"
   ]
  },
  {
   "cell_type": "code",
   "execution_count": 95,
   "id": "4370b845-deec-4036-8fbc-f834887a1015",
   "metadata": {},
   "outputs": [
    {
     "data": {
      "text/plain": [
       "5"
      ]
     },
     "execution_count": 95,
     "metadata": {},
     "output_type": "execute_result"
    }
   ],
   "source": [
    "len(her)"
   ]
  },
  {
   "cell_type": "code",
   "execution_count": 96,
   "id": "17df3870-2dae-4e9e-a944-1d5175861823",
   "metadata": {},
   "outputs": [
    {
     "ename": "KeyError",
     "evalue": "'exist'",
     "output_type": "error",
     "traceback": [
      "\u001b[0;31m---------------------------------------------------------------------------\u001b[0m",
      "\u001b[0;31mKeyError\u001b[0m                                  Traceback (most recent call last)",
      "Cell \u001b[0;32mIn[96], line 1\u001b[0m\n\u001b[0;32m----> 1\u001b[0m \u001b[43mher\u001b[49m\u001b[43m[\u001b[49m\u001b[38;5;124;43m'\u001b[39;49m\u001b[38;5;124;43mexist\u001b[39;49m\u001b[38;5;124;43m'\u001b[39;49m\u001b[43m]\u001b[49m\n",
      "\u001b[0;31mKeyError\u001b[0m: 'exist'"
     ]
    }
   ],
   "source": [
    "her['exist']"
   ]
  },
  {
   "cell_type": "code",
   "execution_count": 97,
   "id": "f131ce12-87f6-4e57-a927-d98fdb24cac9",
   "metadata": {},
   "outputs": [],
   "source": [
    "her.get('exist')"
   ]
  },
  {
   "cell_type": "code",
   "execution_count": 100,
   "id": "3eb3f1db-fe0c-4276-af54-808c5904bd15",
   "metadata": {},
   "outputs": [
    {
     "data": {
      "text/plain": [
       "'nahi hai'"
      ]
     },
     "execution_count": 100,
     "metadata": {},
     "output_type": "execute_result"
    }
   ],
   "source": [
    "her.get('exist','nahi hai') # better approach to implement"
   ]
  },
  {
   "cell_type": "code",
   "execution_count": 101,
   "id": "9a1a357b-1c16-4069-b723-e27ab8895b8c",
   "metadata": {},
   "outputs": [
    {
     "data": {
      "text/plain": [
       "'y'"
      ]
     },
     "execution_count": 101,
     "metadata": {},
     "output_type": "execute_result"
    }
   ],
   "source": [
    "her.get('x', 'nahi hai')"
   ]
  },
  {
   "cell_type": "markdown",
   "id": "53c289d8-dfb8-4e20-acd9-1594dafeacf3",
   "metadata": {},
   "source": [
    "In Python, a dictionary is an unordered collection of key-value pairs. It is a mutable data type that allows you to store and retrieve values using keys. Dictionaries are defined using curly braces `{ }` or the `dict()` function. Here's an overview of dictionaries in Python:\n",
    "\n",
    "**Initialization:**\n",
    "You can initialize a dictionary in several ways:\n",
    "\n",
    "1. Using curly braces:\n",
    "   ```python\n",
    "   my_dict = {'name': 'John', 'age': 30, 'city': 'New York'}\n",
    "   ```\n",
    "\n",
    "2. Using the `dict()` function:\n",
    "   ```python\n",
    "   my_dict = dict(name='John', age=30, city='New York')\n",
    "   ```\n",
    "\n",
    "3. Using a sequence of key-value pairs:\n",
    "   ```python\n",
    "   my_dict = dict([('name', 'John'), ('age', 30), ('city', 'New York')])\n",
    "   ```\n",
    "\n",
    "**Operations and Examples:**\n",
    "\n",
    "1. **Accessing Values**: You can access the value associated with a key using square brackets `[]`.\n",
    "   ```python\n",
    "   print(my_dict['name'])  # Output: John\n",
    "   ```\n",
    "\n",
    "2. **Adding or Modifying Values**: You can add a new key-value pair or modify an existing value using the same square bracket notation.\n",
    "   ```python\n",
    "   my_dict['email'] = 'john@example.com'\n",
    "   my_dict['age'] = 31  # Modifies the existing value\n",
    "   ```\n",
    "\n",
    "3. **Removing Items**: You can remove a key-value pair from the dictionary using the `del` keyword or the `pop()` method.\n",
    "   ```python\n",
    "   del my_dict['city']\n",
    "   popped_value = my_dict.pop('age')  # Removes the key 'age' and returns its value\n",
    "   ```\n",
    "\n",
    "4. **Checking for Keys**: You can check if a key exists in the dictionary using the `in` keyword.\n",
    "   ```python\n",
    "   if 'name' in my_dict:\n",
    "       print(\"Key 'name' exists\")\n",
    "   ```\n",
    "\n",
    "5. **Getting Values**: You can get the value associated with a key using the `get()` method, which returns `None` if the key doesn't exist (or a default value if provided).\n",
    "   ```python\n",
    "   print(my_dict.get('city', 'Unknown'))  # Output: Unknown (since 'city' was removed earlier)\n",
    "   ```\n",
    "\n",
    "6. **Iterating over Keys and Values**: You can iterate over the keys, values, or key-value pairs of a dictionary using various methods.\n",
    "   ```python\n",
    "   # Iterating over keys\n",
    "   for key in my_dict.keys():\n",
    "       print(key)\n",
    "\n",
    "   # Iterating over values\n",
    "   for value in my_dict.values():\n",
    "       print(value)\n",
    "\n",
    "   # Iterating over key-value pairs\n",
    "   for key, value in my_dict.items():\n",
    "       print(key, value)\n",
    "   ```\n",
    "\n",
    "7. **Length**: You can get the number of key-value pairs in a dictionary using the `len()` function.\n",
    "   ```python\n",
    "   print(len(my_dict))\n",
    "   ```\n",
    "\n",
    "Dictionaries are widely used in Python for storing and retrieving data in a key-value format. They are particularly useful when you need to associate values with unique keys, such as storing user information, configuration settings, or any other data that requires fast lookup and retrieval."
   ]
  },
  {
   "cell_type": "code",
   "execution_count": 5,
   "id": "31c882ac-5c6a-4e35-8b3a-8783abf460a4",
   "metadata": {},
   "outputs": [
    {
     "name": "stdout",
     "output_type": "stream",
     "text": [
      "6\n",
      "7\n",
      "9\n"
     ]
    }
   ],
   "source": [
    "arr=[6,7,9]\n",
    "\n",
    "x=0\n",
    "while x<len(arr):\n",
    "    print(arr[x])\n",
    "    x=x+1"
   ]
  },
  {
   "cell_type": "code",
   "execution_count": 6,
   "id": "31a68a0e-dbf6-4b21-974f-461036418d3f",
   "metadata": {},
   "outputs": [
    {
     "data": {
      "text/plain": [
       "3"
      ]
     },
     "execution_count": 6,
     "metadata": {},
     "output_type": "execute_result"
    }
   ],
   "source": [
    "x"
   ]
  },
  {
   "cell_type": "code",
   "execution_count": 7,
   "id": "0695a210-31ae-4b04-8c58-f1599fc1ee51",
   "metadata": {},
   "outputs": [
    {
     "ename": "SyntaxError",
     "evalue": "invalid syntax (1015499630.py, line 1)",
     "output_type": "error",
     "traceback": [
      "\u001b[0;36m  Cell \u001b[0;32mIn[7], line 1\u001b[0;36m\u001b[0m\n\u001b[0;31m    x++\u001b[0m\n\u001b[0m       ^\u001b[0m\n\u001b[0;31mSyntaxError\u001b[0m\u001b[0;31m:\u001b[0m invalid syntax\n"
     ]
    }
   ],
   "source": [
    "x++"
   ]
  },
  {
   "cell_type": "code",
   "execution_count": 8,
   "id": "cf8eab1d-ec33-440d-9cbe-8f1d40358713",
   "metadata": {},
   "outputs": [
    {
     "data": {
      "text/plain": [
       "3"
      ]
     },
     "execution_count": 8,
     "metadata": {},
     "output_type": "execute_result"
    }
   ],
   "source": [
    "++x"
   ]
  },
  {
   "cell_type": "code",
   "execution_count": 9,
   "id": "d306831a-c56e-4ead-a5df-d791fdcf9f9a",
   "metadata": {},
   "outputs": [],
   "source": [
    "x+=1"
   ]
  },
  {
   "cell_type": "code",
   "execution_count": 10,
   "id": "faf8b3a7-9798-4f13-9504-22c9d7e4d8b2",
   "metadata": {},
   "outputs": [
    {
     "data": {
      "text/plain": [
       "4"
      ]
     },
     "execution_count": 10,
     "metadata": {},
     "output_type": "execute_result"
    }
   ],
   "source": [
    "x"
   ]
  },
  {
   "cell_type": "code",
   "execution_count": 14,
   "id": "a127601d-b03a-4247-9486-6672ceebc0f1",
   "metadata": {},
   "outputs": [
    {
     "name": "stdout",
     "output_type": "stream",
     "text": [
      "8\n",
      "9\n",
      "10\n",
      "11\n",
      "12\n",
      "13\n",
      "14\n",
      "15\n",
      "16\n",
      "17\n",
      "18\n",
      "19\n",
      "20\n"
     ]
    }
   ],
   "source": [
    "while 1:\n",
    "    x+=1\n",
    "    print(x)\n",
    "    if x==20:\n",
    "        break"
   ]
  },
  {
   "cell_type": "code",
   "execution_count": 15,
   "id": "0558621e-f166-4166-bcfa-d866d4a4010a",
   "metadata": {},
   "outputs": [],
   "source": [
    "while 0:\n",
    "    print('name')\n"
   ]
  },
  {
   "cell_type": "code",
   "execution_count": 17,
   "id": "ec4704c2-261b-4607-a699-730e78c7c4c3",
   "metadata": {},
   "outputs": [
    {
     "name": "stdout",
     "output_type": "stream",
     "text": [
      "31\n",
      "32\n",
      "33\n",
      "34\n",
      "35\n",
      "36\n",
      "37\n",
      "38\n",
      "39\n",
      "40\n"
     ]
    }
   ],
   "source": [
    "while True:\n",
    "    x+=1\n",
    "    print(x)\n",
    "    if x==40:\n",
    "        break"
   ]
  },
  {
   "cell_type": "code",
   "execution_count": 18,
   "id": "8f88cc1a-c37d-4f58-8cab-2b70c4fc9dd1",
   "metadata": {},
   "outputs": [
    {
     "name": "stdout",
     "output_type": "stream",
     "text": [
      "41\n",
      "42\n",
      "43\n",
      "44\n",
      "45\n",
      "46\n",
      "47\n",
      "48\n",
      "49\n",
      "50\n"
     ]
    }
   ],
   "source": [
    "while 4:\n",
    "    x+=1\n",
    "    print(x)\n",
    "    if x==50:\n",
    "        break"
   ]
  },
  {
   "cell_type": "code",
   "execution_count": 19,
   "id": "826a42dd-e8af-4654-992d-7939d9e18e40",
   "metadata": {},
   "outputs": [
    {
     "name": "stdout",
     "output_type": "stream",
     "text": [
      "51\n",
      "52\n",
      "53\n",
      "54\n",
      "55\n",
      "56\n",
      "57\n",
      "58\n",
      "59\n",
      "60\n"
     ]
    }
   ],
   "source": [
    "while -9:\n",
    "    x+=1\n",
    "    print(x)\n",
    "    if x==60:\n",
    "        break"
   ]
  },
  {
   "cell_type": "code",
   "execution_count": 21,
   "id": "2f08c0b6-08ac-41ac-9750-c95ad950b645",
   "metadata": {},
   "outputs": [],
   "source": [
    "while -0:\n",
    "    x+=1\n",
    "    print(x)\n",
    "    if x==1000:\n",
    "        break"
   ]
  },
  {
   "cell_type": "code",
   "execution_count": 22,
   "id": "a0abd9a1-a00e-42f5-a85c-11cc85de7cd3",
   "metadata": {},
   "outputs": [
    {
     "data": {
      "text/plain": [
       "False"
      ]
     },
     "execution_count": 22,
     "metadata": {},
     "output_type": "execute_result"
    }
   ],
   "source": [
    "True == 0"
   ]
  },
  {
   "cell_type": "code",
   "execution_count": 23,
   "id": "c133ebdd-7604-447f-9103-f03bee45b663",
   "metadata": {},
   "outputs": [
    {
     "data": {
      "text/plain": [
       "True"
      ]
     },
     "execution_count": 23,
     "metadata": {},
     "output_type": "execute_result"
    }
   ],
   "source": [
    "True == 1"
   ]
  },
  {
   "cell_type": "code",
   "execution_count": 24,
   "id": "6c34d951-53ea-4867-a4f0-fd761bd41af6",
   "metadata": {},
   "outputs": [
    {
     "data": {
      "text/plain": [
       "False"
      ]
     },
     "execution_count": 24,
     "metadata": {},
     "output_type": "execute_result"
    }
   ],
   "source": [
    "True == 6"
   ]
  },
  {
   "cell_type": "code",
   "execution_count": 25,
   "id": "618937ee-fca9-4e90-b513-0edf670fb0a8",
   "metadata": {},
   "outputs": [
    {
     "data": {
      "text/plain": [
       "False"
      ]
     },
     "execution_count": 25,
     "metadata": {},
     "output_type": "execute_result"
    }
   ],
   "source": [
    "True == 5"
   ]
  },
  {
   "cell_type": "code",
   "execution_count": 1,
   "id": "2d7fa8e0-730b-4d23-ba3c-723477b378a0",
   "metadata": {},
   "outputs": [
    {
     "data": {
      "text/plain": [
       "16"
      ]
     },
     "execution_count": 1,
     "metadata": {},
     "output_type": "execute_result"
    }
   ],
   "source": [
    "7+9"
   ]
  },
  {
   "cell_type": "code",
   "execution_count": 2,
   "id": "46d2f206-6915-4927-a70f-9aa876dbf79f",
   "metadata": {},
   "outputs": [
    {
     "data": {
      "text/plain": [
       "5"
      ]
     },
     "execution_count": 2,
     "metadata": {},
     "output_type": "execute_result"
    }
   ],
   "source": [
    "6-1"
   ]
  },
  {
   "cell_type": "code",
   "execution_count": 3,
   "id": "e1b90400-377b-4ef1-9e55-98eb2b82e37a",
   "metadata": {},
   "outputs": [
    {
     "data": {
      "text/plain": [
       "20"
      ]
     },
     "execution_count": 3,
     "metadata": {},
     "output_type": "execute_result"
    }
   ],
   "source": [
    "5*4"
   ]
  },
  {
   "cell_type": "code",
   "execution_count": 4,
   "id": "747fef53-79d9-4199-9619-8dbd9061c6c1",
   "metadata": {},
   "outputs": [
    {
     "data": {
      "text/plain": [
       "16"
      ]
     },
     "execution_count": 4,
     "metadata": {},
     "output_type": "execute_result"
    }
   ],
   "source": [
    "2**4"
   ]
  },
  {
   "cell_type": "code",
   "execution_count": 5,
   "id": "69e59783-8f89-420e-82c5-3416757b5085",
   "metadata": {},
   "outputs": [
    {
     "data": {
      "text/plain": [
       "5.98"
      ]
     },
     "execution_count": 5,
     "metadata": {},
     "output_type": "execute_result"
    }
   ],
   "source": [
    "1.98+4"
   ]
  },
  {
   "cell_type": "code",
   "execution_count": 6,
   "id": "cba01751-8bd1-4e4a-a2d4-69d65ddc3a3f",
   "metadata": {},
   "outputs": [
    {
     "data": {
      "text/plain": [
       "-3.0199999999999996"
      ]
     },
     "execution_count": 6,
     "metadata": {},
     "output_type": "execute_result"
    }
   ],
   "source": [
    "5.98-9"
   ]
  },
  {
   "cell_type": "code",
   "execution_count": 7,
   "id": "f922df88-c5aa-46bc-9615-2aa2fadfb16c",
   "metadata": {},
   "outputs": [
    {
     "data": {
      "text/plain": [
       "28.98"
      ]
     },
     "execution_count": 7,
     "metadata": {},
     "output_type": "execute_result"
    }
   ],
   "source": [
    "3.22*9"
   ]
  },
  {
   "cell_type": "code",
   "execution_count": 8,
   "id": "8f3ec0f4-994d-4c35-b446-88da28d1ebd7",
   "metadata": {},
   "outputs": [
    {
     "ename": "ZeroDivisionError",
     "evalue": "division by zero",
     "output_type": "error",
     "traceback": [
      "\u001b[0;31m---------------------------------------------------------------------------\u001b[0m",
      "\u001b[0;31mZeroDivisionError\u001b[0m                         Traceback (most recent call last)",
      "Cell \u001b[0;32mIn[8], line 1\u001b[0m\n\u001b[0;32m----> 1\u001b[0m \u001b[38;5;241;43m4\u001b[39;49m\u001b[38;5;241;43m/\u001b[39;49m\u001b[38;5;241;43m0\u001b[39;49m\n",
      "\u001b[0;31mZeroDivisionError\u001b[0m: division by zero"
     ]
    }
   ],
   "source": [
    "4/0"
   ]
  },
  {
   "cell_type": "code",
   "execution_count": 9,
   "id": "ddba1a1f-1708-4505-ad42-8568e2e49af7",
   "metadata": {},
   "outputs": [
    {
     "data": {
      "text/plain": [
       "399999.99999999994"
      ]
     },
     "execution_count": 9,
     "metadata": {},
     "output_type": "execute_result"
    }
   ],
   "source": [
    "4.0/0.00001"
   ]
  },
  {
   "cell_type": "code",
   "execution_count": 10,
   "id": "c8a92e6b-eac2-4263-9c05-4e2659919783",
   "metadata": {},
   "outputs": [
    {
     "data": {
      "text/plain": [
       "553.3333333333334"
      ]
     },
     "execution_count": 10,
     "metadata": {},
     "output_type": "execute_result"
    }
   ],
   "source": [
    "498/0.9"
   ]
  },
  {
   "cell_type": "code",
   "execution_count": 11,
   "id": "b2267ebe-b39a-4a8a-ae71-30ba84c5f905",
   "metadata": {},
   "outputs": [
    {
     "data": {
      "text/plain": [
       "0.2"
      ]
     },
     "execution_count": 11,
     "metadata": {},
     "output_type": "execute_result"
    }
   ],
   "source": [
    "1/5"
   ]
  },
  {
   "cell_type": "code",
   "execution_count": 12,
   "id": "9f0270da-ced6-4e14-9a4f-e8c13f166f8a",
   "metadata": {},
   "outputs": [
    {
     "data": {
      "text/plain": [
       "0"
      ]
     },
     "execution_count": 12,
     "metadata": {},
     "output_type": "execute_result"
    }
   ],
   "source": [
    "int(1/5)"
   ]
  },
  {
   "cell_type": "code",
   "execution_count": 13,
   "id": "405fc68e-4d17-4b79-b517-0028c4fa95b1",
   "metadata": {},
   "outputs": [
    {
     "data": {
      "text/plain": [
       "2"
      ]
     },
     "execution_count": 13,
     "metadata": {},
     "output_type": "execute_result"
    }
   ],
   "source": [
    "int(11/5)"
   ]
  },
  {
   "cell_type": "code",
   "execution_count": 14,
   "id": "15c99dd3-275e-444a-adfa-215d8e25ce40",
   "metadata": {},
   "outputs": [
    {
     "ename": "NameError",
     "evalue": "name 'floor' is not defined",
     "output_type": "error",
     "traceback": [
      "\u001b[0;31m---------------------------------------------------------------------------\u001b[0m",
      "\u001b[0;31mNameError\u001b[0m                                 Traceback (most recent call last)",
      "Cell \u001b[0;32mIn[14], line 1\u001b[0m\n\u001b[0;32m----> 1\u001b[0m \u001b[43mfloor\u001b[49m(\u001b[38;5;241m11\u001b[39m\u001b[38;5;241m/\u001b[39m\u001b[38;5;241m5\u001b[39m)\n",
      "\u001b[0;31mNameError\u001b[0m: name 'floor' is not defined"
     ]
    }
   ],
   "source": [
    "floor(11/5)"
   ]
  },
  {
   "cell_type": "code",
   "execution_count": 15,
   "id": "954696ff-4f69-43bb-aa96-094f8d9803b6",
   "metadata": {},
   "outputs": [
    {
     "data": {
      "text/plain": [
       "2"
      ]
     },
     "execution_count": 15,
     "metadata": {},
     "output_type": "execute_result"
    }
   ],
   "source": [
    "11//5"
   ]
  },
  {
   "cell_type": "code",
   "execution_count": 16,
   "id": "4559dced-21df-4c51-97c7-7dd56850743c",
   "metadata": {},
   "outputs": [
    {
     "data": {
      "text/plain": [
       "3"
      ]
     },
     "execution_count": 16,
     "metadata": {},
     "output_type": "execute_result"
    }
   ],
   "source": [
    "-(-11//5)"
   ]
  },
  {
   "cell_type": "code",
   "execution_count": 19,
   "id": "21b6c3d4-86a3-46a3-a832-73039fb7e871",
   "metadata": {},
   "outputs": [
    {
     "data": {
      "text/plain": [
       "-3"
      ]
     },
     "execution_count": 19,
     "metadata": {},
     "output_type": "execute_result"
    }
   ],
   "source": [
    "-11//5 # floor divion lower integer bcz you need a=b*d+r, where 0<=r<d"
   ]
  },
  {
   "cell_type": "code",
   "execution_count": 20,
   "id": "7d5e3496-d860-41b3-b23d-bef1792ce8f3",
   "metadata": {},
   "outputs": [
    {
     "data": {
      "text/plain": [
       "-81"
      ]
     },
     "execution_count": 20,
     "metadata": {},
     "output_type": "execute_result"
    }
   ],
   "source": [
    "-9**2"
   ]
  },
  {
   "cell_type": "code",
   "execution_count": 22,
   "id": "7d9d84b7-ffbf-469f-8bf6-9f621ec27f12",
   "metadata": {},
   "outputs": [
    {
     "data": {
      "text/plain": [
       "81"
      ]
     },
     "execution_count": 22,
     "metadata": {},
     "output_type": "execute_result"
    }
   ],
   "source": [
    "(-9)**2"
   ]
  },
  {
   "cell_type": "code",
   "execution_count": 23,
   "id": "77485028-a293-4c0a-bb3a-748e52e7f439",
   "metadata": {},
   "outputs": [
    {
     "ename": "SyntaxError",
     "evalue": "invalid syntax (1601821525.py, line 1)",
     "output_type": "error",
     "traceback": [
      "\u001b[0;36m  Cell \u001b[0;32mIn[23], line 1\u001b[0;36m\u001b[0m\n\u001b[0;31m    7***3\u001b[0m\n\u001b[0m       ^\u001b[0m\n\u001b[0;31mSyntaxError\u001b[0m\u001b[0;31m:\u001b[0m invalid syntax\n"
     ]
    }
   ],
   "source": [
    "7***3"
   ]
  },
  {
   "cell_type": "code",
   "execution_count": 27,
   "id": "2512c2c5-8f32-4575-a5aa-b434283ea8ec",
   "metadata": {},
   "outputs": [
    {
     "data": {
      "text/plain": [
       "2"
      ]
     },
     "execution_count": 27,
     "metadata": {},
     "output_type": "execute_result"
    }
   ],
   "source": [
    "2**1**3"
   ]
  },
  {
   "cell_type": "code",
   "execution_count": 25,
   "id": "b30a541c-17de-469c-a111-7c830b5e1638",
   "metadata": {},
   "outputs": [
    {
     "data": {
      "text/plain": [
       "256"
      ]
     },
     "execution_count": 25,
     "metadata": {},
     "output_type": "execute_result"
    }
   ],
   "source": [
    "2**8"
   ]
  },
  {
   "cell_type": "code",
   "execution_count": 28,
   "id": "070101ab-869e-44be-826c-c45d88e306ed",
   "metadata": {},
   "outputs": [
    {
     "data": {
      "text/plain": [
       "2"
      ]
     },
     "execution_count": 28,
     "metadata": {},
     "output_type": "execute_result"
    }
   ],
   "source": [
    "5%3"
   ]
  },
  {
   "cell_type": "code",
   "execution_count": 29,
   "id": "d0f62e98-c818-451a-a5e6-a9f734876773",
   "metadata": {},
   "outputs": [
    {
     "data": {
      "text/plain": [
       "1"
      ]
     },
     "execution_count": 29,
     "metadata": {},
     "output_type": "execute_result"
    }
   ],
   "source": [
    "-5%3"
   ]
  },
  {
   "cell_type": "code",
   "execution_count": 30,
   "id": "9f4c5f3e-d8fb-453d-8d7e-8feb029a195f",
   "metadata": {},
   "outputs": [
    {
     "data": {
      "text/plain": [
       "1"
      ]
     },
     "execution_count": 30,
     "metadata": {},
     "output_type": "execute_result"
    }
   ],
   "source": [
    "(-5)%3"
   ]
  },
  {
   "cell_type": "code",
   "execution_count": 31,
   "id": "0f2f1d9f-7d53-4e66-ba76-27f02f509ec9",
   "metadata": {},
   "outputs": [
    {
     "data": {
      "text/plain": [
       "1.7999999999999998"
      ]
     },
     "execution_count": 31,
     "metadata": {},
     "output_type": "execute_result"
    }
   ],
   "source": [
    "4.8%3"
   ]
  },
  {
   "cell_type": "code",
   "execution_count": 32,
   "id": "435330f9-bb20-44f2-bc2f-5100d27ecc3c",
   "metadata": {},
   "outputs": [
    {
     "ename": "SyntaxError",
     "evalue": "invalid syntax (3186204768.py, line 1)",
     "output_type": "error",
     "traceback": [
      "\u001b[0;36m  Cell \u001b[0;32mIn[32], line 1\u001b[0;36m\u001b[0m\n\u001b[0;31m    4.8%%3\u001b[0m\n\u001b[0m        ^\u001b[0m\n\u001b[0;31mSyntaxError\u001b[0m\u001b[0;31m:\u001b[0m invalid syntax\n"
     ]
    }
   ],
   "source": [
    "4.8%%3"
   ]
  },
  {
   "cell_type": "code",
   "execution_count": 33,
   "id": "b895e8ab-6a0f-4833-a76c-dcf0b4f5767a",
   "metadata": {},
   "outputs": [],
   "source": [
    "x=1.7999999999999998"
   ]
  },
  {
   "cell_type": "code",
   "execution_count": 37,
   "id": "2b5e2e2c-41c9-47f2-b8b5-0a820694021d",
   "metadata": {},
   "outputs": [
    {
     "data": {
      "text/plain": [
       "1.8"
      ]
     },
     "execution_count": 37,
     "metadata": {},
     "output_type": "execute_result"
    }
   ],
   "source": [
    "round(x,3)"
   ]
  },
  {
   "cell_type": "code",
   "execution_count": 40,
   "id": "49c93ee0-47b5-4d76-88f4-5c5937d65cd1",
   "metadata": {},
   "outputs": [
    {
     "ename": "SyntaxError",
     "evalue": "invalid decimal literal (4200175860.py, line 1)",
     "output_type": "error",
     "traceback": [
      "\u001b[0;36m  Cell \u001b[0;32mIn[40], line 1\u001b[0;36m\u001b[0m\n\u001b[0;31m    y={x:.2f}\u001b[0m\n\u001b[0m          ^\u001b[0m\n\u001b[0;31mSyntaxError\u001b[0m\u001b[0;31m:\u001b[0m invalid decimal literal\n"
     ]
    }
   ],
   "source": [
    "y={x:.2f}\n",
    "y"
   ]
  },
  {
   "cell_type": "code",
   "execution_count": 42,
   "id": "09bc255d-c596-408f-90db-6f8d5a892e33",
   "metadata": {},
   "outputs": [
    {
     "data": {
      "text/plain": [
       "'1.80'"
      ]
     },
     "execution_count": 42,
     "metadata": {},
     "output_type": "execute_result"
    }
   ],
   "source": [
    "y=f\"{x:.2f}\"\n",
    "y"
   ]
  },
  {
   "cell_type": "code",
   "execution_count": 43,
   "id": "b799711f-0b1a-42e7-8d34-b6d265f7b549",
   "metadata": {},
   "outputs": [
    {
     "ename": "TypeError",
     "evalue": "unsupported operand type(s) for +: 'int' and 'str'",
     "output_type": "error",
     "traceback": [
      "\u001b[0;31m---------------------------------------------------------------------------\u001b[0m",
      "\u001b[0;31mTypeError\u001b[0m                                 Traceback (most recent call last)",
      "Cell \u001b[0;32mIn[43], line 1\u001b[0m\n\u001b[0;32m----> 1\u001b[0m \u001b[38;5;241;43m9\u001b[39;49m\u001b[38;5;241;43m+\u001b[39;49m\u001b[38;5;124;43m\"\u001b[39;49m\u001b[38;5;124;43mp\u001b[39;49m\u001b[38;5;124;43m\"\u001b[39;49m\n",
      "\u001b[0;31mTypeError\u001b[0m: unsupported operand type(s) for +: 'int' and 'str'"
     ]
    }
   ],
   "source": [
    "9+\"p\""
   ]
  },
  {
   "cell_type": "code",
   "execution_count": 44,
   "id": "cf0715e0-b987-4e42-b0da-b33a6be92dba",
   "metadata": {},
   "outputs": [
    {
     "data": {
      "text/plain": [
       "'pop'"
      ]
     },
     "execution_count": 44,
     "metadata": {},
     "output_type": "execute_result"
    }
   ],
   "source": [
    "\"p\"+\"op\""
   ]
  },
  {
   "cell_type": "code",
   "execution_count": 45,
   "id": "a9974e7e-88bd-48a0-b905-2c903fb19494",
   "metadata": {},
   "outputs": [
    {
     "data": {
      "text/plain": [
       "True"
      ]
     },
     "execution_count": 45,
     "metadata": {},
     "output_type": "execute_result"
    }
   ],
   "source": [
    "4<5"
   ]
  },
  {
   "cell_type": "code",
   "execution_count": 46,
   "id": "af9ad1f5-29db-4d0f-b3b8-8c2591b23222",
   "metadata": {},
   "outputs": [
    {
     "data": {
      "text/plain": [
       "False"
      ]
     },
     "execution_count": 46,
     "metadata": {},
     "output_type": "execute_result"
    }
   ],
   "source": [
    "4==5"
   ]
  },
  {
   "cell_type": "code",
   "execution_count": 47,
   "id": "c598d111-654a-42dc-b24d-8e470b12936c",
   "metadata": {},
   "outputs": [
    {
     "data": {
      "text/plain": [
       "True"
      ]
     },
     "execution_count": 47,
     "metadata": {},
     "output_type": "execute_result"
    }
   ],
   "source": [
    "5<=5"
   ]
  },
  {
   "cell_type": "code",
   "execution_count": 48,
   "id": "020044a2-d6f6-4cd3-b072-ba987488e37a",
   "metadata": {},
   "outputs": [
    {
     "data": {
      "text/plain": [
       "True"
      ]
     },
     "execution_count": 48,
     "metadata": {},
     "output_type": "execute_result"
    }
   ],
   "source": [
    "2>=1"
   ]
  },
  {
   "cell_type": "code",
   "execution_count": 1,
   "id": "92eb51fe-3471-435e-baea-c497d8233150",
   "metadata": {},
   "outputs": [],
   "source": [
    "u=\"string1\"\n",
    "v=\"string2\""
   ]
  },
  {
   "cell_type": "code",
   "execution_count": 2,
   "id": "32c95b9e-0ef5-40eb-8132-eb87569bca24",
   "metadata": {},
   "outputs": [
    {
     "data": {
      "text/plain": [
       "'string1string2'"
      ]
     },
     "execution_count": 2,
     "metadata": {},
     "output_type": "execute_result"
    }
   ],
   "source": [
    "u+v"
   ]
  },
  {
   "cell_type": "code",
   "execution_count": 3,
   "id": "37ec3697-760e-4b8b-9a7f-2960aa68c3f2",
   "metadata": {},
   "outputs": [
    {
     "ename": "TypeError",
     "evalue": "can't multiply sequence by non-int of type 'str'",
     "output_type": "error",
     "traceback": [
      "\u001b[0;31m---------------------------------------------------------------------------\u001b[0m",
      "\u001b[0;31mTypeError\u001b[0m                                 Traceback (most recent call last)",
      "Cell \u001b[0;32mIn[3], line 1\u001b[0m\n\u001b[0;32m----> 1\u001b[0m \u001b[43mu\u001b[49m\u001b[38;5;241;43m*\u001b[39;49m\u001b[43mv\u001b[49m\n",
      "\u001b[0;31mTypeError\u001b[0m: can't multiply sequence by non-int of type 'str'"
     ]
    }
   ],
   "source": [
    "u*v"
   ]
  },
  {
   "cell_type": "code",
   "execution_count": 4,
   "id": "83688938-d691-432c-aa20-a63b33916709",
   "metadata": {},
   "outputs": [
    {
     "ename": "TypeError",
     "evalue": "unsupported operand type(s) for ** or pow(): 'str' and 'str'",
     "output_type": "error",
     "traceback": [
      "\u001b[0;31m---------------------------------------------------------------------------\u001b[0m",
      "\u001b[0;31mTypeError\u001b[0m                                 Traceback (most recent call last)",
      "Cell \u001b[0;32mIn[4], line 1\u001b[0m\n\u001b[0;32m----> 1\u001b[0m \u001b[43mu\u001b[49m\u001b[38;5;241;43m*\u001b[39;49m\u001b[38;5;241;43m*\u001b[39;49m\u001b[43mv\u001b[49m\n",
      "\u001b[0;31mTypeError\u001b[0m: unsupported operand type(s) for ** or pow(): 'str' and 'str'"
     ]
    }
   ],
   "source": [
    "u**v"
   ]
  },
  {
   "cell_type": "code",
   "execution_count": 5,
   "id": "090484c8-7035-4c9f-b0b7-795efcc50a54",
   "metadata": {},
   "outputs": [
    {
     "data": {
      "text/plain": [
       "'string1string1'"
      ]
     },
     "execution_count": 5,
     "metadata": {},
     "output_type": "execute_result"
    }
   ],
   "source": [
    "u*2"
   ]
  },
  {
   "cell_type": "code",
   "execution_count": 6,
   "id": "389e5e03-a37b-4aba-a26a-5dbb94d2d657",
   "metadata": {},
   "outputs": [
    {
     "ename": "TypeError",
     "evalue": "'str' object does not support item assignment",
     "output_type": "error",
     "traceback": [
      "\u001b[0;31m---------------------------------------------------------------------------\u001b[0m",
      "\u001b[0;31mTypeError\u001b[0m                                 Traceback (most recent call last)",
      "Cell \u001b[0;32mIn[6], line 1\u001b[0m\n\u001b[0;32m----> 1\u001b[0m \u001b[43mu\u001b[49m\u001b[43m[\u001b[49m\u001b[38;5;241;43m3\u001b[39;49m\u001b[43m]\u001b[49m\u001b[38;5;241m=\u001b[39m\u001b[38;5;124m'\u001b[39m\u001b[38;5;124mo\u001b[39m\u001b[38;5;124m'\u001b[39m\n",
      "\u001b[0;31mTypeError\u001b[0m: 'str' object does not support item assignment"
     ]
    }
   ],
   "source": [
    "u[3]='o'"
   ]
  },
  {
   "cell_type": "code",
   "execution_count": 7,
   "id": "80876c06-6fce-4764-bf1b-31cd3d8cc535",
   "metadata": {},
   "outputs": [
    {
     "name": "stdout",
     "output_type": "stream",
     "text": [
      "Hello, Universe!\n"
     ]
    }
   ],
   "source": [
    "message = \"Hello, World!\"\n",
    "modified_message = message[:7] + \"Universe\" + message[12:]\n",
    "print(modified_message)  # Output: \"Hello, Universe!\""
   ]
  },
  {
   "cell_type": "code",
   "execution_count": 8,
   "id": "ca630259-05c0-4a49-b601-fb90cc61df89",
   "metadata": {},
   "outputs": [
    {
     "data": {
      "text/plain": [
       "'Hello, '"
      ]
     },
     "execution_count": 8,
     "metadata": {},
     "output_type": "execute_result"
    }
   ],
   "source": [
    "message[:7]"
   ]
  },
  {
   "cell_type": "code",
   "execution_count": 9,
   "id": "8f85c6f1-4ffd-4413-81c9-ef1ad4a324b1",
   "metadata": {},
   "outputs": [
    {
     "data": {
      "text/plain": [
       "'!'"
      ]
     },
     "execution_count": 9,
     "metadata": {},
     "output_type": "execute_result"
    }
   ],
   "source": [
    "message[12:]"
   ]
  },
  {
   "cell_type": "code",
   "execution_count": 11,
   "id": "fdbd0438-e423-47ea-a640-ab3bb7d61a58",
   "metadata": {},
   "outputs": [
    {
     "name": "stdout",
     "output_type": "stream",
     "text": [
      "I need lemons!\n"
     ]
    }
   ],
   "source": [
    "message = \"I need mangoes!\"\n",
    "modified_message = message.replace(\"mangoes\", \"lemons\")\n",
    "print(modified_message)  # Output: \"Hello, Universe!\""
   ]
  },
  {
   "cell_type": "code",
   "execution_count": 12,
   "id": "e9899529-1a6d-42de-a931-b8282271470b",
   "metadata": {},
   "outputs": [
    {
     "name": "stdout",
     "output_type": "stream",
     "text": [
      "I\n",
      " \n",
      "n\n",
      "e\n",
      "e\n",
      "d\n",
      " \n",
      "m\n",
      "a\n",
      "n\n",
      "g\n",
      "o\n",
      "e\n",
      "s\n",
      "!\n"
     ]
    }
   ],
   "source": [
    "for char in message:\n",
    "    print(char)"
   ]
  },
  {
   "cell_type": "code",
   "execution_count": 13,
   "id": "b2dbc4c8-1d2d-45e1-ad75-318f0ee7101d",
   "metadata": {},
   "outputs": [
    {
     "name": "stdout",
     "output_type": "stream",
     "text": [
      "y\n",
      "O\n",
      "p\n",
      "6\n",
      "e\n"
     ]
    }
   ],
   "source": [
    "message=\"yOp6e\"\n",
    "for char in message:\n",
    "    print(char)"
   ]
  },
  {
   "cell_type": "code",
   "execution_count": 29,
   "id": "d045ec6f-9113-4336-a88e-28e3d436ac06",
   "metadata": {},
   "outputs": [
    {
     "name": "stdout",
     "output_type": "stream",
     "text": [
      "alpha\n",
      "y\n",
      "upper\n",
      "O\n",
      "alpha\n",
      "p\n",
      "6\n",
      "alpha\n",
      "e\n"
     ]
    }
   ],
   "source": [
    "for ch in message:\n",
    "    if ch.isupper():\n",
    "        print(\"upper\")\n",
    "    elif ch.isalpha():\n",
    "        print(\"alpha\")\n",
    "    print(ch)"
   ]
  },
  {
   "cell_type": "code",
   "execution_count": 30,
   "id": "55791b74-3bb7-41e4-9d4a-1d90cb1ae4a5",
   "metadata": {},
   "outputs": [
    {
     "data": {
      "text/plain": [
       "False"
      ]
     },
     "execution_count": 30,
     "metadata": {},
     "output_type": "execute_result"
    }
   ],
   "source": [
    "'7'.islower()"
   ]
  },
  {
   "cell_type": "code",
   "execution_count": 31,
   "id": "1812aecb-1b1c-43c2-9871-cae0d66e965d",
   "metadata": {},
   "outputs": [
    {
     "data": {
      "text/plain": [
       "True"
      ]
     },
     "execution_count": 31,
     "metadata": {},
     "output_type": "execute_result"
    }
   ],
   "source": [
    "'7'.isdigit()"
   ]
  },
  {
   "cell_type": "code",
   "execution_count": 32,
   "id": "81c3b9ca-2eca-45a6-87bb-37a4688cc890",
   "metadata": {},
   "outputs": [
    {
     "data": {
      "text/plain": [
       "False"
      ]
     },
     "execution_count": 32,
     "metadata": {},
     "output_type": "execute_result"
    }
   ],
   "source": [
    "'78d'.isdigit()"
   ]
  },
  {
   "cell_type": "code",
   "execution_count": 33,
   "id": "27fbc115-7863-405c-ba4d-0b4053df6665",
   "metadata": {},
   "outputs": [
    {
     "data": {
      "text/plain": [
       "True"
      ]
     },
     "execution_count": 33,
     "metadata": {},
     "output_type": "execute_result"
    }
   ],
   "source": [
    "'90'.isdigit()"
   ]
  },
  {
   "cell_type": "code",
   "execution_count": 34,
   "id": "4ca8fc9b-8359-4362-b514-1ab8d899a42d",
   "metadata": {},
   "outputs": [
    {
     "data": {
      "text/plain": [
       "'IOPPP'"
      ]
     },
     "execution_count": 34,
     "metadata": {},
     "output_type": "execute_result"
    }
   ],
   "source": [
    "'iopPP'.upper()"
   ]
  },
  {
   "cell_type": "code",
   "execution_count": 35,
   "id": "a727f19f-1d2e-42d9-b184-986f7786b586",
   "metadata": {},
   "outputs": [
    {
     "data": {
      "text/plain": [
       "'e'"
      ]
     },
     "execution_count": 35,
     "metadata": {},
     "output_type": "execute_result"
    }
   ],
   "source": [
    "char"
   ]
  },
  {
   "cell_type": "code",
   "execution_count": 36,
   "id": "c6c56261-1b61-40a6-8772-29f67ea94809",
   "metadata": {},
   "outputs": [],
   "source": [
    "str = 'difo'"
   ]
  },
  {
   "cell_type": "code",
   "execution_count": 37,
   "id": "7bc48c15-a7e5-4d62-b385-9cb7965ff9cc",
   "metadata": {},
   "outputs": [
    {
     "data": {
      "text/plain": [
       "'difo'"
      ]
     },
     "execution_count": 37,
     "metadata": {},
     "output_type": "execute_result"
    }
   ],
   "source": [
    "str"
   ]
  },
  {
   "cell_type": "code",
   "execution_count": 38,
   "id": "54c86445-454f-4479-8fed-8cea212dfa25",
   "metadata": {},
   "outputs": [
    {
     "data": {
      "text/plain": [
       "'dfj'"
      ]
     },
     "execution_count": 38,
     "metadata": {},
     "output_type": "execute_result"
    }
   ],
   "source": [
    "int = 'dfj'\n",
    "int"
   ]
  },
  {
   "cell_type": "code",
   "execution_count": 41,
   "id": "d1e08599-f18d-42c7-a024-db8569ef3c76",
   "metadata": {},
   "outputs": [
    {
     "data": {
      "text/plain": [
       "{'ley': 'fjkhdals'}"
      ]
     },
     "execution_count": 41,
     "metadata": {},
     "output_type": "execute_result"
    }
   ],
   "source": [
    "float = {\"ley\":\"fjkhdals\"}\n",
    "float"
   ]
  },
  {
   "cell_type": "code",
   "execution_count": 42,
   "id": "65385f75-5395-4170-abbc-02ea5e66d8cc",
   "metadata": {},
   "outputs": [
    {
     "ename": "SyntaxError",
     "evalue": "invalid syntax (4111203077.py, line 1)",
     "output_type": "error",
     "traceback": [
      "\u001b[0;36m  Cell \u001b[0;32mIn[42], line 1\u001b[0;36m\u001b[0m\n\u001b[0;31m    def = \"same\"\u001b[0m\n\u001b[0m        ^\u001b[0m\n\u001b[0;31mSyntaxError\u001b[0m\u001b[0;31m:\u001b[0m invalid syntax\n"
     ]
    }
   ],
   "source": [
    "def = \"same\""
   ]
  },
  {
   "cell_type": "code",
   "execution_count": 43,
   "id": "d07a195d-4abe-480d-bcd5-915b1c6bb42a",
   "metadata": {},
   "outputs": [
    {
     "ename": "SyntaxError",
     "evalue": "invalid syntax (1995973049.py, line 1)",
     "output_type": "error",
     "traceback": [
      "\u001b[0;36m  Cell \u001b[0;32mIn[43], line 1\u001b[0;36m\u001b[0m\n\u001b[0;31m    del = \"df\"\u001b[0m\n\u001b[0m        ^\u001b[0m\n\u001b[0;31mSyntaxError\u001b[0m\u001b[0;31m:\u001b[0m invalid syntax\n"
     ]
    }
   ],
   "source": [
    "del = \"df\""
   ]
  },
  {
   "cell_type": "code",
   "execution_count": null,
   "id": "028954e1-23eb-40ef-b27b-2f04c452375c",
   "metadata": {},
   "outputs": [],
   "source": []
  }
 ],
 "metadata": {
  "kernelspec": {
   "display_name": "Python 3 (ipykernel)",
   "language": "python",
   "name": "python3"
  },
  "language_info": {
   "codemirror_mode": {
    "name": "ipython",
    "version": 3
   },
   "file_extension": ".py",
   "mimetype": "text/x-python",
   "name": "python",
   "nbconvert_exporter": "python",
   "pygments_lexer": "ipython3",
   "version": "3.12.1"
  }
 },
 "nbformat": 4,
 "nbformat_minor": 5
}
