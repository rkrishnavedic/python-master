{
 "cells": [
  {
   "cell_type": "markdown",
   "id": "18ed1748-d76b-45d6-818c-cc5441c9d7e3",
   "metadata": {},
   "source": [
    "#### Functions\n",
    "`def` keyword\n",
    "1. A function is a reusable block of code that performs a specific task.\n",
    "2. Functions can accept arguments (input values) and return values.\n",
    "3. They promote code reusability, modularization, and organization.\n",
    "\n",
    "#### Function Arguments\n",
    "1. Functions can accept positional arguments, keyword arguments, and default arguments.\n",
    "2. Positional arguments are matched based on their position in the function call.\n",
    "3. Keyword arguments are matched by name, making the code more readable.\n",
    "4. Default arguments allow you to provide a default value if no argument is supplied.\n",
    "\n",
    "#### Return Values\n",
    "\n",
    "1. Functions can return values using the return statement.\n",
    "2. If no return statement is used, the function implicitly returns None.\n",
    "3. Functions can return multiple values by returning a tuple, list, or other data structure."
   ]
  },
  {
   "cell_type": "code",
   "execution_count": 7,
   "id": "694648d8-b9d6-42c5-813d-9f5eea882062",
   "metadata": {},
   "outputs": [],
   "source": [
    "def my_func():\n",
    "    print(\"Namaskar Dosto!\")"
   ]
  },
  {
   "cell_type": "code",
   "execution_count": 8,
   "id": "8228952c-173e-45b6-8794-b3cb915545dd",
   "metadata": {},
   "outputs": [
    {
     "name": "stdout",
     "output_type": "stream",
     "text": [
      "Namaskar Dosto!\n"
     ]
    }
   ],
   "source": [
    "my_func()"
   ]
  },
  {
   "cell_type": "code",
   "execution_count": 39,
   "id": "9c1143b9-d4fa-4deb-a70d-7548dc33b231",
   "metadata": {},
   "outputs": [],
   "source": [
    "def sum(a :  int, b:int) -> int:\n",
    "    return a+b"
   ]
  },
  {
   "cell_type": "code",
   "execution_count": 40,
   "id": "aad39802-6acd-45dd-84e0-a47cd089aa92",
   "metadata": {},
   "outputs": [
    {
     "data": {
      "text/plain": [
       "115"
      ]
     },
     "execution_count": 40,
     "metadata": {},
     "output_type": "execute_result"
    }
   ],
   "source": [
    "x=45\n",
    "y=70\n",
    "sum(x,y)"
   ]
  },
  {
   "cell_type": "code",
   "execution_count": 41,
   "id": "be2bb7a5-dff7-40db-91d6-5149597ed0db",
   "metadata": {},
   "outputs": [
    {
     "ename": "TypeError",
     "evalue": "can only concatenate str (not \"int\") to str",
     "output_type": "error",
     "traceback": [
      "\u001b[0;31m---------------------------------------------------------------------------\u001b[0m",
      "\u001b[0;31mTypeError\u001b[0m                                 Traceback (most recent call last)",
      "Cell \u001b[0;32mIn[41], line 3\u001b[0m\n\u001b[1;32m      1\u001b[0m u\u001b[38;5;241m=\u001b[39m\u001b[38;5;124m'\u001b[39m\u001b[38;5;124msomething\u001b[39m\u001b[38;5;124m'\u001b[39m\n\u001b[1;32m      2\u001b[0m v\u001b[38;5;241m=\u001b[39m\u001b[38;5;241m8\u001b[39m\n\u001b[0;32m----> 3\u001b[0m \u001b[38;5;28;43msum\u001b[39;49m\u001b[43m(\u001b[49m\u001b[43mu\u001b[49m\u001b[43m,\u001b[49m\u001b[43mv\u001b[49m\u001b[43m)\u001b[49m\n",
      "Cell \u001b[0;32mIn[39], line 2\u001b[0m, in \u001b[0;36msum\u001b[0;34m(a, b)\u001b[0m\n\u001b[1;32m      1\u001b[0m \u001b[38;5;28;01mdef\u001b[39;00m \u001b[38;5;21msum\u001b[39m(a :  \u001b[38;5;28mint\u001b[39m, b:\u001b[38;5;28mint\u001b[39m) \u001b[38;5;241m-\u001b[39m\u001b[38;5;241m>\u001b[39m \u001b[38;5;28mint\u001b[39m:\n\u001b[0;32m----> 2\u001b[0m     \u001b[38;5;28;01mreturn\u001b[39;00m \u001b[43ma\u001b[49m\u001b[38;5;241;43m+\u001b[39;49m\u001b[43mb\u001b[49m\n",
      "\u001b[0;31mTypeError\u001b[0m: can only concatenate str (not \"int\") to str"
     ]
    }
   ],
   "source": [
    "u='something'\n",
    "v=8\n",
    "sum(u,v)"
   ]
  },
  {
   "cell_type": "code",
   "execution_count": 38,
   "id": "d5067c0f-dd5a-4896-9cbc-e2d28f4a453b",
   "metadata": {},
   "outputs": [
    {
     "data": {
      "text/plain": [
       "'somethingyou'"
      ]
     },
     "execution_count": 38,
     "metadata": {},
     "output_type": "execute_result"
    }
   ],
   "source": [
    "v='you'\n",
    "sum(u,v)"
   ]
  },
  {
   "cell_type": "markdown",
   "id": "8a44626e-527c-4a6f-9976-39c09f9f6126",
   "metadata": {},
   "source": [
    "#### Why it is return string concatenation?\n",
    "Even if you mention a return type using type hints, as shown in the previous example, it does not enforce or restrict the actual type of value returned by the function.\n",
    "The type hint is primarily for documentation purposes and to assist static type checking tools, but it does not prevent the function from returning a different type at runtime."
   ]
  },
  {
   "cell_type": "markdown",
   "id": "5ee60c19-aa8f-4bc1-be5a-d2f2192cc555",
   "metadata": {},
   "source": [
    "#### Argument types"
   ]
  },
  {
   "cell_type": "code",
   "execution_count": 4,
   "id": "8ce8a726-e53d-4f08-b847-fdc947f4688c",
   "metadata": {},
   "outputs": [],
   "source": [
    "# Postional arguments -> order matters\n",
    "def sum(a,b,c):\n",
    "    print(a,b,c)\n",
    "    return a+b+c"
   ]
  },
  {
   "cell_type": "code",
   "execution_count": 5,
   "id": "4a20dbf9-17f8-4f26-87d3-e11a6b312ac3",
   "metadata": {},
   "outputs": [
    {
     "name": "stdout",
     "output_type": "stream",
     "text": [
      "7 9 3\n"
     ]
    },
    {
     "data": {
      "text/plain": [
       "19"
      ]
     },
     "execution_count": 5,
     "metadata": {},
     "output_type": "execute_result"
    }
   ],
   "source": [
    "a=7\n",
    "b=9\n",
    "c=3\n",
    "sum(a,b,c)"
   ]
  },
  {
   "cell_type": "code",
   "execution_count": 6,
   "id": "85138713-39af-4a92-81e7-37ca023d48c0",
   "metadata": {},
   "outputs": [
    {
     "name": "stdout",
     "output_type": "stream",
     "text": [
      "7 4 2\n"
     ]
    },
    {
     "data": {
      "text/plain": [
       "13"
      ]
     },
     "execution_count": 6,
     "metadata": {},
     "output_type": "execute_result"
    }
   ],
   "source": [
    "sum(7,4,2)"
   ]
  },
  {
   "cell_type": "code",
   "execution_count": 9,
   "id": "9fe5c0e4-22f4-4854-aa94-63c21acae6bc",
   "metadata": {},
   "outputs": [],
   "source": [
    "# Keyword Arguments\n",
    "def sum(a,b,c):\n",
    "    print(a,b,c)\n",
    "    return a+b+c"
   ]
  },
  {
   "cell_type": "code",
   "execution_count": 14,
   "id": "66e92d9b-0253-49dc-8337-f89aea3e4e06",
   "metadata": {},
   "outputs": [
    {
     "name": "stdout",
     "output_type": "stream",
     "text": [
      "34 20 90\n"
     ]
    },
    {
     "data": {
      "text/plain": [
       "144"
      ]
     },
     "execution_count": 14,
     "metadata": {},
     "output_type": "execute_result"
    }
   ],
   "source": [
    "sum(34,c=90,b=20)"
   ]
  },
  {
   "cell_type": "code",
   "execution_count": 15,
   "id": "22a391b9-ea18-451d-8843-43c79e37828f",
   "metadata": {},
   "outputs": [
    {
     "ename": "SyntaxError",
     "evalue": "parameter without a default follows parameter with a default (291719824.py, line 1)",
     "output_type": "error",
     "traceback": [
      "\u001b[0;36m  Cell \u001b[0;32mIn[15], line 1\u001b[0;36m\u001b[0m\n\u001b[0;31m    def sum(a=0,b=1,c):\u001b[0m\n\u001b[0m                    ^\u001b[0m\n\u001b[0;31mSyntaxError\u001b[0m\u001b[0;31m:\u001b[0m parameter without a default follows parameter with a default\n"
     ]
    }
   ],
   "source": [
    "def sum(a=0,b=1,c):\n",
    "    print(a,b,c)\n",
    "    return a+b+c"
   ]
  },
  {
   "cell_type": "markdown",
   "id": "187d12a5-429c-4567-b9ee-30dd73b0e7db",
   "metadata": {},
   "source": [
    "#### Why this error?\n",
    "In the list of arguments, the default values should be from right to left."
   ]
  },
  {
   "cell_type": "code",
   "execution_count": 23,
   "id": "28f54921-c3c7-4c4e-b273-ee2252e22c62",
   "metadata": {},
   "outputs": [
    {
     "ename": "SyntaxError",
     "evalue": "parameter without a default follows parameter with a default (1534895690.py, line 1)",
     "output_type": "error",
     "traceback": [
      "\u001b[0;36m  Cell \u001b[0;32mIn[23], line 1\u001b[0;36m\u001b[0m\n\u001b[0;31m    def sum(a=0,b,c=2):\u001b[0m\n\u001b[0m                ^\u001b[0m\n\u001b[0;31mSyntaxError\u001b[0m\u001b[0;31m:\u001b[0m parameter without a default follows parameter with a default\n"
     ]
    }
   ],
   "source": [
    "def sum(a=0,b,c=2):\n",
    "    print(a,b,c)\n",
    "    return a+b+c"
   ]
  },
  {
   "cell_type": "code",
   "execution_count": 24,
   "id": "45012dfc-2cae-45fb-a937-04a7f0fe7fbd",
   "metadata": {},
   "outputs": [],
   "source": [
    "#working\n",
    "def sum(a,b=1,c=2):\n",
    "    print(a,b,c)\n",
    "    return a+b+c"
   ]
  },
  {
   "cell_type": "code",
   "execution_count": 25,
   "id": "332f6cab-da6d-49f5-a9a7-0d7e389aa4af",
   "metadata": {},
   "outputs": [
    {
     "name": "stdout",
     "output_type": "stream",
     "text": [
      "10 1 2\n"
     ]
    },
    {
     "data": {
      "text/plain": [
       "13"
      ]
     },
     "execution_count": 25,
     "metadata": {},
     "output_type": "execute_result"
    }
   ],
   "source": [
    "sum(10)"
   ]
  },
  {
   "cell_type": "code",
   "execution_count": 26,
   "id": "cd12e982-199e-406c-bd67-bd4b7e97bbc2",
   "metadata": {},
   "outputs": [
    {
     "name": "stdout",
     "output_type": "stream",
     "text": [
      "1 3 2\n"
     ]
    },
    {
     "data": {
      "text/plain": [
       "6"
      ]
     },
     "execution_count": 26,
     "metadata": {},
     "output_type": "execute_result"
    }
   ],
   "source": [
    "sum(1,3)"
   ]
  },
  {
   "cell_type": "code",
   "execution_count": 29,
   "id": "0818d3e5-aee4-467a-872f-fa405f29d6dc",
   "metadata": {},
   "outputs": [
    {
     "name": "stdout",
     "output_type": "stream",
     "text": [
      "cant find your variable\n"
     ]
    }
   ],
   "source": [
    "var=None\n",
    "if var is None:\n",
    "    print('cant find your variable')"
   ]
  },
  {
   "cell_type": "code",
   "execution_count": 31,
   "id": "5d0a5bf0-f555-4977-aac1-dd802d84a53c",
   "metadata": {},
   "outputs": [],
   "source": [
    "def non_func():\n",
    "    pass"
   ]
  },
  {
   "cell_type": "code",
   "execution_count": 33,
   "id": "17efbcde-5913-4d29-a16a-272faeb8179e",
   "metadata": {},
   "outputs": [
    {
     "data": {
      "text/plain": [
       "NoneType"
      ]
     },
     "execution_count": 33,
     "metadata": {},
     "output_type": "execute_result"
    }
   ],
   "source": [
    "type(non_func())"
   ]
  },
  {
   "cell_type": "code",
   "execution_count": 34,
   "id": "68f31280-1acf-4b3e-9045-a60cf73a0442",
   "metadata": {},
   "outputs": [],
   "source": [
    "var=non_func()"
   ]
  },
  {
   "cell_type": "code",
   "execution_count": 35,
   "id": "37c0783d-3f1c-4e9d-969d-606b14136359",
   "metadata": {},
   "outputs": [
    {
     "data": {
      "text/plain": [
       "NoneType"
      ]
     },
     "execution_count": 35,
     "metadata": {},
     "output_type": "execute_result"
    }
   ],
   "source": [
    "type(var)"
   ]
  },
  {
   "cell_type": "code",
   "execution_count": 36,
   "id": "757f18d5-d2f5-4aba-9fec-8df9eb981a42",
   "metadata": {},
   "outputs": [],
   "source": [
    "var"
   ]
  },
  {
   "cell_type": "code",
   "execution_count": 37,
   "id": "db29e44f-9429-44a3-bd66-ce21693ef544",
   "metadata": {},
   "outputs": [
    {
     "name": "stdout",
     "output_type": "stream",
     "text": [
      "None\n"
     ]
    }
   ],
   "source": [
    "print(var)"
   ]
  },
  {
   "cell_type": "code",
   "execution_count": 48,
   "id": "2f21e3d5-a565-4ea5-a424-7b3190e31027",
   "metadata": {},
   "outputs": [],
   "source": [
    "def multi_func()->dict:\n",
    "    return {2,3,0}"
   ]
  },
  {
   "cell_type": "code",
   "execution_count": 49,
   "id": "587cd4d0-7de5-4886-9590-3ed47f2db5c6",
   "metadata": {},
   "outputs": [
    {
     "data": {
      "text/plain": [
       "{0, 2, 3}"
      ]
     },
     "execution_count": 49,
     "metadata": {},
     "output_type": "execute_result"
    }
   ],
   "source": [
    "multi_func()"
   ]
  },
  {
   "cell_type": "code",
   "execution_count": 50,
   "id": "002110e2-2afa-4e78-a1ae-456f7e24b44f",
   "metadata": {},
   "outputs": [
    {
     "data": {
      "text/plain": [
       "set"
      ]
     },
     "execution_count": 50,
     "metadata": {},
     "output_type": "execute_result"
    }
   ],
   "source": [
    "type(multi_func())"
   ]
  },
  {
   "cell_type": "code",
   "execution_count": 55,
   "id": "6a85c7f5-4bcb-472a-9a67-e6a2050119b5",
   "metadata": {},
   "outputs": [],
   "source": [
    "def foo(a:list):\n",
    "    print(a)"
   ]
  },
  {
   "cell_type": "code",
   "execution_count": 56,
   "id": "f65d8648-daaa-4579-ae94-9e5f38372637",
   "metadata": {},
   "outputs": [
    {
     "name": "stdout",
     "output_type": "stream",
     "text": [
      "{0, 2, 3}\n"
     ]
    }
   ],
   "source": [
    "foo(multi_func())"
   ]
  },
  {
   "cell_type": "markdown",
   "id": "0d05fab0-89b5-4999-955b-f24b02f66386",
   "metadata": {},
   "source": [
    "#### Input type or return type doesn't matter"
   ]
  },
  {
   "cell_type": "code",
   "execution_count": 57,
   "id": "982cfe00-0fd4-4394-9a4f-0b71102ce9d6",
   "metadata": {},
   "outputs": [],
   "source": [
    "def foo(a:any):\n",
    "    print(a,\"any\")"
   ]
  },
  {
   "cell_type": "code",
   "execution_count": 58,
   "id": "2cb97328-361b-4f22-acde-45f798f2fbb4",
   "metadata": {},
   "outputs": [
    {
     "name": "stdout",
     "output_type": "stream",
     "text": [
      "{0, 2, 3} any\n"
     ]
    }
   ],
   "source": [
    "foo(multi_func())"
   ]
  },
  {
   "cell_type": "markdown",
   "id": "1ef9c0ad-f22d-414b-82a8-06dbfb2fc12e",
   "metadata": {},
   "source": [
    "#### Scope of variables\n",
    "In Python, variables have different scopes depending on where they are defined. The scope of a variable determines where it can be accessed and modified within a program. There are four different scopes in Python: \n",
    "`local, enclosing, global, and built-in`.\n",
    "\n",
    "Notes:\n",
    "\n",
    "1. Local variables take precedence over global variables with the same name. If a local variable is defined with the same name as a global variable, the local variable will be used within the function or block where it is defined.\n",
    "2. The global keyword can be used to access and modify global variables within a function.\n",
    "3. It is generally recommended to use local variables as much as possible and avoid modifying global variables, as it can lead to unexpected behavior and make the code harder to understand and maintain.\n",
    "4. In Python, the scope of a variable is determined by the block in which it is defined, not by the indentation level."
   ]
  },
  {
   "cell_type": "markdown",
   "id": "717a53e7-aaa0-42ba-b8d1-8218f2547a63",
   "metadata": {},
   "source": [
    "#### Local Scope"
   ]
  },
  {
   "cell_type": "code",
   "execution_count": 1,
   "id": "3bcac020-e963-4794-8cc2-5e23aa93f6f6",
   "metadata": {},
   "outputs": [
    {
     "name": "stdout",
     "output_type": "stream",
     "text": [
      "10\n"
     ]
    },
    {
     "ename": "NameError",
     "evalue": "name 'x' is not defined",
     "output_type": "error",
     "traceback": [
      "\u001b[0;31m---------------------------------------------------------------------------\u001b[0m",
      "\u001b[0;31mNameError\u001b[0m                                 Traceback (most recent call last)",
      "Cell \u001b[0;32mIn[1], line 6\u001b[0m\n\u001b[1;32m      3\u001b[0m     \u001b[38;5;28mprint\u001b[39m(x)\n\u001b[1;32m      5\u001b[0m my_function()  \u001b[38;5;66;03m# Output: 10\u001b[39;00m\n\u001b[0;32m----> 6\u001b[0m \u001b[38;5;28mprint\u001b[39m(\u001b[43mx\u001b[49m)  \u001b[38;5;66;03m# Error: x is not defined\u001b[39;00m\n",
      "\u001b[0;31mNameError\u001b[0m: name 'x' is not defined"
     ]
    }
   ],
   "source": [
    "def my_function():\n",
    "    x = 10  # x is a local variable\n",
    "    print(x)\n",
    "\n",
    "my_function()  # Output: 10\n",
    "print(x)  # Error: x is not defined"
   ]
  },
  {
   "cell_type": "markdown",
   "id": "ef0447bb-9919-45c1-9783-0b86be98e02b",
   "metadata": {},
   "source": [
    "#### Enclosing Scope"
   ]
  },
  {
   "cell_type": "code",
   "execution_count": 2,
   "id": "342f0fe4-16fb-43d5-9c7e-fb25071ed98d",
   "metadata": {},
   "outputs": [
    {
     "name": "stdout",
     "output_type": "stream",
     "text": [
      "10\n"
     ]
    }
   ],
   "source": [
    "def outer_function():\n",
    "    x = 10  # x is in the enclosing scope\n",
    "\n",
    "    def inner_function():\n",
    "        print(x)  # x is accessible from the inner function\n",
    "\n",
    "    inner_function()\n",
    "\n",
    "outer_function()  # Output: 10"
   ]
  },
  {
   "cell_type": "markdown",
   "id": "84c7c9da-bedf-4a1e-9155-56d83c3b3509",
   "metadata": {},
   "source": [
    "#### Global scope"
   ]
  },
  {
   "cell_type": "code",
   "execution_count": 3,
   "id": "87f94fdc-5d8b-4e29-92c9-6005d7604500",
   "metadata": {},
   "outputs": [
    {
     "name": "stdout",
     "output_type": "stream",
     "text": [
      "10\n",
      "10\n"
     ]
    }
   ],
   "source": [
    "x = 10  # x is a global variable\n",
    "\n",
    "def my_function():\n",
    "    print(x)  # x is accessible from the function\n",
    "\n",
    "my_function()  # Output: 10\n",
    "print(x)  # Output: 10"
   ]
  },
  {
   "cell_type": "markdown",
   "id": "909c5c17-fa52-44a5-9f89-c225d993a1b4",
   "metadata": {},
   "source": [
    "#### Built-in Scope\n",
    "Built-in scope refers to the names that are pre-defined in Python, such as print, len, range, and other built-in functions and constants. These names are always available for use in any part of the program."
   ]
  },
  {
   "cell_type": "code",
   "execution_count": 62,
   "id": "89fcf709-0da3-4533-be64-c3f46c114c07",
   "metadata": {},
   "outputs": [
    {
     "name": "stdout",
     "output_type": "stream",
     "text": [
      "5\n"
     ]
    }
   ],
   "source": [
    "print(len(\"hello\"))  # Output: 5"
   ]
  },
  {
   "cell_type": "code",
   "execution_count": null,
   "id": "862d5d8a-b936-408b-a2e4-64b01f4df064",
   "metadata": {},
   "outputs": [],
   "source": []
  },
  {
   "cell_type": "code",
   "execution_count": 7,
   "id": "4f5378d8-a6c6-4ecf-85fb-c9ee0d153526",
   "metadata": {},
   "outputs": [
    {
     "name": "stdout",
     "output_type": "stream",
     "text": [
      "20\n",
      "10\n"
     ]
    }
   ],
   "source": [
    "y = 10  # global variable\n",
    "\n",
    "def my_function():\n",
    "    #global y  # Declare x as a global variable\n",
    "    y = 20  # Modify the global variable x\n",
    "    print(y)  # Output: 20\n",
    "\n",
    "my_function()\n",
    "print(y)  # Output: 20"
   ]
  },
  {
   "cell_type": "markdown",
   "id": "d5001ad2-78c8-46e0-9cda-338014338e35",
   "metadata": {},
   "source": [
    "#### What is the  poinnt?\n",
    "To modify you need to use keyword `global y`."
   ]
  },
  {
   "cell_type": "code",
   "execution_count": 8,
   "id": "9eede4cc-6184-4df5-b820-b8206c249221",
   "metadata": {},
   "outputs": [
    {
     "name": "stdout",
     "output_type": "stream",
     "text": [
      "20\n",
      "20\n"
     ]
    }
   ],
   "source": [
    "y = 10  # global variable\n",
    "\n",
    "def my_function():\n",
    "    global y  # Declare x as a global variable\n",
    "    y = 20  # Modify the global variable x\n",
    "    print(y)  # Output: 20\n",
    "\n",
    "my_function()\n",
    "print(y)  # Output: 20"
   ]
  },
  {
   "cell_type": "code",
   "execution_count": 10,
   "id": "15da55a9-183f-4a60-85ca-75b6fa7e1c8d",
   "metadata": {},
   "outputs": [
    {
     "name": "stdout",
     "output_type": "stream",
     "text": [
      "20\n",
      "10\n"
     ]
    }
   ],
   "source": [
    "def outer_function():\n",
    "    x = 10  # x in the enclosing scope\n",
    "\n",
    "    def inner_function():\n",
    "        #nonlocal x  # Declare x as nonlocal\n",
    "        x = 20  # Modify the enclosing x\n",
    "        print(x)  # Output: 20\n",
    "\n",
    "    inner_function()\n",
    "    print(x)  # Output: 20\n",
    "\n",
    "outer_function()"
   ]
  },
  {
   "cell_type": "code",
   "execution_count": 11,
   "id": "df5179da-e78a-4758-a550-06e682c7c3b7",
   "metadata": {},
   "outputs": [
    {
     "name": "stdout",
     "output_type": "stream",
     "text": [
      "20\n",
      "20\n"
     ]
    }
   ],
   "source": [
    "def outer_function():\n",
    "    x = 10  # x in the enclosing scope\n",
    "\n",
    "    def inner_function():\n",
    "        nonlocal x  # Declare x as nonlocal\n",
    "        x = 20  # Modify the enclosing x\n",
    "        print(x)  # Output: 20\n",
    "\n",
    "    inner_function()\n",
    "    print(x)  # Output: 20\n",
    "\n",
    "outer_function()"
   ]
  },
  {
   "cell_type": "markdown",
   "id": "913efae6-4b24-4133-b44f-b11c5ae3dff6",
   "metadata": {},
   "source": [
    "#### Scope behaviour inside loop  and if-else block"
   ]
  },
  {
   "cell_type": "code",
   "execution_count": 12,
   "id": "257c2453-e30e-4d6a-90fc-43de839f5c79",
   "metadata": {},
   "outputs": [
    {
     "name": "stdout",
     "output_type": "stream",
     "text": [
      "10\n"
     ]
    }
   ],
   "source": [
    "if True:\n",
    "    print(x)"
   ]
  },
  {
   "cell_type": "code",
   "execution_count": 13,
   "id": "b5eb49ef-dd34-4b4b-824f-719ad0f7a378",
   "metadata": {},
   "outputs": [
    {
     "name": "stdout",
     "output_type": "stream",
     "text": [
      "9\n"
     ]
    }
   ],
   "source": [
    "if True:\n",
    "    z=9\n",
    "    print(z)"
   ]
  },
  {
   "cell_type": "code",
   "execution_count": 14,
   "id": "16f96c37-2efc-4976-b06e-6274519b658f",
   "metadata": {},
   "outputs": [
    {
     "name": "stdout",
     "output_type": "stream",
     "text": [
      "9\n"
     ]
    }
   ],
   "source": [
    "print(z)"
   ]
  },
  {
   "cell_type": "code",
   "execution_count": 18,
   "id": "d9939d32-1c3b-46cf-991f-ba4091450fcd",
   "metadata": {},
   "outputs": [
    {
     "name": "stdout",
     "output_type": "stream",
     "text": [
      "20\n",
      "20\n"
     ]
    },
    {
     "ename": "NameError",
     "evalue": "name 'c1' is not defined",
     "output_type": "error",
     "traceback": [
      "\u001b[0;31m---------------------------------------------------------------------------\u001b[0m",
      "\u001b[0;31mNameError\u001b[0m                                 Traceback (most recent call last)",
      "Cell \u001b[0;32mIn[18], line 10\u001b[0m\n\u001b[1;32m      7\u001b[0m     c1 \u001b[38;5;241m=\u001b[39m \u001b[38;5;241m30\u001b[39m  \u001b[38;5;66;03m# c is local to the else block\u001b[39;00m\n\u001b[1;32m      9\u001b[0m \u001b[38;5;28mprint\u001b[39m(b1)  \u001b[38;5;66;03m# Error: b is not defined\u001b[39;00m\n\u001b[0;32m---> 10\u001b[0m \u001b[38;5;28mprint\u001b[39m(\u001b[43mc1\u001b[49m)  \u001b[38;5;66;03m# Error: c is not defined\u001b[39;00m\n",
      "\u001b[0;31mNameError\u001b[0m: name 'c1' is not defined"
     ]
    }
   ],
   "source": [
    "a1 = 10  # Global variable\n",
    "\n",
    "if a1 > 5:\n",
    "    b1 = 20  # b is local to the if block\n",
    "    print(b1)  # Output: 20\n",
    "else:\n",
    "    c1 = 30  # c is local to the else block\n",
    "\n",
    "print(b1)  # Error: b is not defined\n",
    "print(c1)  # Error: c is not defined"
   ]
  },
  {
   "cell_type": "code",
   "execution_count": 22,
   "id": "5bbc21d7-4da6-49af-b871-eb01e4038c68",
   "metadata": {},
   "outputs": [
    {
     "name": "stdout",
     "output_type": "stream",
     "text": [
      "for 7\n",
      "7\n"
     ]
    }
   ],
   "source": [
    "for i in range(0,1):\n",
    "    u3=7\n",
    "    print('for', u3)\n",
    "print(u3)"
   ]
  },
  {
   "cell_type": "markdown",
   "id": "e2ad742c-054f-490f-9354-8738229a371c",
   "metadata": {},
   "source": [
    "1. Loops: (Modified)\n",
    "Variables defined inside a loop (e.g., for or while loops) have their scope limited to the loop body. However, if the loop condition evaluates to True, the variable defined inside the loop is accessible outside the loop as well.\n",
    "2. Comprehensions: (its local,Not Modified)\n",
    "Variables used in list comprehensions, dictionary comprehensions, or generator expressions have their scope limited to the comprehension itself.\n",
    "```python\n",
    "x = 10\n",
    "y = [x + 1 for x in range(5)]\n",
    "print(y)  # Output: [1, 2, 3, 4, 5]\n",
    "print(x)  # Output: 10\n",
    "```\n",
    "3. Exception Blocks: (it local, Not modified)\n",
    "Variables defined in the except block of a try-except statement are local to that block and are not accessible outside of it.\n",
    "```python\n",
    "try:\n",
    "    x = 1 / 0\n",
    "except ZeroDivisionError as e:\n",
    "    error_message = str(e)\n",
    "\n",
    "print(error_message)  # Error: error_message is not defined\n",
    "```\n",
    "4. Class and Instance Scope:\n",
    "Variables defined within a class but outside any method have class scope and are shared among all instances of the class. Variables defined within a method have instance scope and are unique to each instance of the class.\n",
    "```python\n",
    "class MyClass:\n",
    "    class_var = 10  # Class scope\n",
    "\n",
    "    def __init__(self):\n",
    "        self.instance_var = 20  # Instance scope\n",
    "\n",
    "obj1 = MyClass()\n",
    "obj2 = MyClass()\n",
    "\n",
    "print(obj1.class_var)  # Output: 10\n",
    "print(obj2.class_var)  # Output: 10\n",
    "print(obj1.instance_var)  # Output: 20\n",
    "print(obj2.instance_var)  # Output: 20\n",
    "```"
   ]
  },
  {
   "cell_type": "markdown",
   "id": "cdeb3537-dddc-4a31-ad8c-7b2aa008bc50",
   "metadata": {},
   "source": [
    "#### Try-Catch block\n",
    "1. You can catch multiple exceptions in a single except block by specifying them as a tuple: except (Exception1, Exception2):\n",
    "2. If you want to catch all exceptions, you can use except Exception: (not recommended as it can catch unexpected exceptions)"
   ]
  },
  {
   "cell_type": "code",
   "execution_count": 27,
   "id": "a828efec-bb4a-4744-9755-ccb3f8de6388",
   "metadata": {},
   "outputs": [],
   "source": [
    "try:\n",
    "    # Code that might raise an exception\n",
    "    pass\n",
    "    # raise Exception1(\"args...\")\n",
    "except Exception1:\n",
    "    # Code to handle Exception1\n",
    "    pass\n",
    "except Exception2:\n",
    "    # Code to handle Exception2\n",
    "    pass\n",
    "except:  # Catch all other exceptions\n",
    "    print(\"An unexpected error occurred\")\n",
    "else:\n",
    "    # Code that executes if no exception is raised\n",
    "    pass\n",
    "finally:\n",
    "    # Code that always executes, regardless of an exception\n",
    "    pass"
   ]
  },
  {
   "cell_type": "code",
   "execution_count": 28,
   "id": "d8c0f778-031e-4457-b7ac-ab02614255e2",
   "metadata": {},
   "outputs": [],
   "source": [
    "class Exception1(Exception):\n",
    "    \"\"\"This is a custom exception.\"\"\"\n",
    "    def __init__(self, message, code):\n",
    "        self.message = message\n",
    "        self.code = code\n",
    "\n",
    "    def __str__(self):\n",
    "        return f\"{self.message} (Error Code: {self.code})\""
   ]
  },
  {
   "cell_type": "markdown",
   "id": "82526b9d-88bf-4a63-acd3-1acffd5396dd",
   "metadata": {},
   "source": [
    "#### Input/Output"
   ]
  },
  {
   "cell_type": "code",
   "execution_count": 49,
   "id": "c5c9700e-8548-42dc-9298-a93e9305f38e",
   "metadata": {},
   "outputs": [
    {
     "name": "stdin",
     "output_type": "stream",
     "text": [
      " 34 343 r5\n"
     ]
    }
   ],
   "source": [
    "# User input\n",
    "t = set(input())"
   ]
  },
  {
   "cell_type": "code",
   "execution_count": 50,
   "id": "ebe75eef-74c6-4b31-a163-5d241f47a0c2",
   "metadata": {},
   "outputs": [
    {
     "data": {
      "text/plain": [
       "{' ', '3', '4', '5', 'r'}"
      ]
     },
     "execution_count": 50,
     "metadata": {},
     "output_type": "execute_result"
    }
   ],
   "source": [
    "t"
   ]
  },
  {
   "cell_type": "code",
   "execution_count": 51,
   "id": "91f3c14c-ef9d-4e03-9af9-b198091d9918",
   "metadata": {},
   "outputs": [
    {
     "name": "stdout",
     "output_type": "stream",
     "text": [
      "{'4', 'r', '5', '3', ' '}\n"
     ]
    }
   ],
   "source": [
    "print(t)"
   ]
  },
  {
   "cell_type": "code",
   "execution_count": 52,
   "id": "7a0ed8df-4c4b-4868-a872-f299915d3fa5",
   "metadata": {},
   "outputs": [
    {
     "data": {
      "text/plain": [
       "set"
      ]
     },
     "execution_count": 52,
     "metadata": {},
     "output_type": "execute_result"
    }
   ],
   "source": [
    "type(t)"
   ]
  },
  {
   "cell_type": "code",
   "execution_count": 56,
   "id": "ec9f1f52-69aa-45a8-aefe-a9dcc14df5e7",
   "metadata": {},
   "outputs": [],
   "source": [
    "# Input t test-cases\n",
    "# Innput n (size of list)\n",
    "# Input n-times list elments"
   ]
  },
  {
   "cell_type": "code",
   "execution_count": 64,
   "id": "6b11ddb2-420e-4698-aa79-542433b20cc4",
   "metadata": {},
   "outputs": [
    {
     "name": "stdin",
     "output_type": "stream",
     "text": [
      " 1\n",
      " 2\n",
      " 4 5\n"
     ]
    },
    {
     "name": "stdout",
     "output_type": "stream",
     "text": [
      "[4, 5]\n"
     ]
    }
   ],
   "source": [
    "t = int(input())\n",
    "while t>0:\n",
    "    n = int(input())\n",
    "    arr = input().split(' ')\n",
    "    arr = [int(num) for num in arr]\n",
    "    t-=1\n",
    "    print(arr)"
   ]
  },
  {
   "cell_type": "markdown",
   "id": "b0afe96f-3755-452f-8f4b-50365274cae9",
   "metadata": {},
   "source": [
    "#### List comprehension\n",
    "List comprehension is a concise and efficient way to create a new list in Python by applying an expression to each item in an iterable (such as a list, tuple, or string). It provides a more readable and compact syntax compared to traditional for loops and can often result in more optimized code.\n",
    "`new_list = [expression for item in iterable]`"
   ]
  },
  {
   "cell_type": "code",
   "execution_count": 65,
   "id": "387366ea-29a8-4580-ad08-07f5901b34ad",
   "metadata": {},
   "outputs": [
    {
     "name": "stdout",
     "output_type": "stream",
     "text": [
      "[2, 4, 6, 8, 10]\n"
     ]
    }
   ],
   "source": [
    "numbers = [1, 2, 3, 4, 5, 6, 7, 8, 9, 10]\n",
    "even_numbers = [num for num in numbers if num % 2 == 0]\n",
    "print(even_numbers)  # Output: [2, 4, 6, 8, 10]"
   ]
  },
  {
   "cell_type": "code",
   "execution_count": 66,
   "id": "a533c5a5-8bc4-4a63-97f3-b569c3f88c63",
   "metadata": {},
   "outputs": [
    {
     "name": "stdout",
     "output_type": "stream",
     "text": [
      "[1, 2, 3, 4, 5, 6, 7, 8, 9]\n"
     ]
    }
   ],
   "source": [
    "matrix = [[1, 2, 3], [4, 5, 6], [7, 8, 9]]\n",
    "flattened_list = [num for row in matrix for num in row]\n",
    "print(flattened_list)  # Output: [1, 2, 3, 4, 5, 6, 7, 8, 9]"
   ]
  },
  {
   "cell_type": "code",
   "execution_count": null,
   "id": "f680bff4-05aa-4206-8598-e6daa67fa9cf",
   "metadata": {},
   "outputs": [],
   "source": [
    "##THE END THIS STREAM"
   ]
  }
 ],
 "metadata": {
  "kernelspec": {
   "display_name": "Python 3 (ipykernel)",
   "language": "python",
   "name": "python3"
  },
  "language_info": {
   "codemirror_mode": {
    "name": "ipython",
    "version": 3
   },
   "file_extension": ".py",
   "mimetype": "text/x-python",
   "name": "python",
   "nbconvert_exporter": "python",
   "pygments_lexer": "ipython3",
   "version": "3.12.1"
  }
 },
 "nbformat": 4,
 "nbformat_minor": 5
}
